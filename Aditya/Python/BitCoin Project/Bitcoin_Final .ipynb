{
 "cells": [
  {
   "cell_type": "markdown",
   "metadata": {},
   "source": [
    "### Project 1\n",
    "\n",
    "Project description: \n",
    "- Read data into Jupyter notebook, use pandas to import data into a data frame\n",
    "- preprocess data: explore data, address missing data, categorical data, if there is any, and data scaling. Justify the type of scaling used in this project. \n",
    "- train your dataset using all the linear regression models you've learned so far. If your model has a scaling parameter(s) use Grid Search to find the best scaling parameter. Use plots and graphs to help you get a better glimpse of the results. \n",
    "- Then use cross validation to find average training and testing score. \n",
    "- Your submission should have at least the following regression models: KNN repressor, linear regression, Ridge, Lasso, polynomial regression, SVM both simple and with kernels. \n",
    "- Finally find the best repressor for this dataset and train your model on the entire dataset using the best parameters and predict the market price for the test_set.\n",
    "- submit IPython notebook. Use markdown to provide an inline report for this project."
   ]
  },
  {
   "cell_type": "markdown",
   "metadata": {},
   "source": [
    "### BITCOIN MARKET PRICE PREDICTION"
   ]
  },
  {
   "cell_type": "markdown",
   "metadata": {},
   "source": [
    "### Import libraries and read train dataset"
   ]
  },
  {
   "cell_type": "code",
   "execution_count": 1,
   "metadata": {
    "collapsed": true
   },
   "outputs": [],
   "source": [
    "import pandas as pd\n",
    "import numpy as np\n",
    "import matplotlib.pyplot as plt\n",
    "import warnings\n",
    "import os\n",
    "os.getcwd()\n",
    "os.chdir('C:\\\\Users\\\\MY-PC\\\\Documents\\\\Python Scripts')\n",
    "\n",
    "data = pd.read_csv('bitcoin_dataset(1).csv')"
   ]
  },
  {
   "cell_type": "code",
   "execution_count": 2,
   "metadata": {
    "scrolled": false
   },
   "outputs": [
    {
     "data": {
      "text/html": [
       "<div>\n",
       "<style scoped>\n",
       "    .dataframe tbody tr th:only-of-type {\n",
       "        vertical-align: middle;\n",
       "    }\n",
       "\n",
       "    .dataframe tbody tr th {\n",
       "        vertical-align: top;\n",
       "    }\n",
       "\n",
       "    .dataframe thead th {\n",
       "        text-align: right;\n",
       "    }\n",
       "</style>\n",
       "<table border=\"1\" class=\"dataframe\">\n",
       "  <thead>\n",
       "    <tr style=\"text-align: right;\">\n",
       "      <th></th>\n",
       "      <th>Date</th>\n",
       "      <th>btc_market_price</th>\n",
       "      <th>btc_total_bitcoins</th>\n",
       "      <th>btc_market_cap</th>\n",
       "      <th>btc_trade_volume</th>\n",
       "      <th>btc_blocks_size</th>\n",
       "      <th>btc_avg_block_size</th>\n",
       "      <th>btc_n_orphaned_blocks</th>\n",
       "      <th>btc_n_transactions_per_block</th>\n",
       "      <th>btc_median_confirmation_time</th>\n",
       "      <th>...</th>\n",
       "      <th>btc_cost_per_transaction_percent</th>\n",
       "      <th>btc_cost_per_transaction</th>\n",
       "      <th>btc_n_unique_addresses</th>\n",
       "      <th>btc_n_transactions</th>\n",
       "      <th>btc_n_transactions_total</th>\n",
       "      <th>btc_n_transactions_excluding_popular</th>\n",
       "      <th>btc_n_transactions_excluding_chains_longer_than_100</th>\n",
       "      <th>btc_output_volume</th>\n",
       "      <th>btc_estimated_transaction_volume</th>\n",
       "      <th>btc_estimated_transaction_volume_usd</th>\n",
       "    </tr>\n",
       "  </thead>\n",
       "  <tbody>\n",
       "    <tr>\n",
       "      <th>0</th>\n",
       "      <td>2/17/2010 0:00</td>\n",
       "      <td>0.0</td>\n",
       "      <td>2043200.0</td>\n",
       "      <td>0.0</td>\n",
       "      <td>0.0</td>\n",
       "      <td>0.0</td>\n",
       "      <td>0.000235</td>\n",
       "      <td>0</td>\n",
       "      <td>1.0</td>\n",
       "      <td>0.0</td>\n",
       "      <td>...</td>\n",
       "      <td>31.781022</td>\n",
       "      <td>0.0</td>\n",
       "      <td>241</td>\n",
       "      <td>244</td>\n",
       "      <td>41240</td>\n",
       "      <td>244</td>\n",
       "      <td>244</td>\n",
       "      <td>65173.13</td>\n",
       "      <td>36500.0</td>\n",
       "      <td>0.0</td>\n",
       "    </tr>\n",
       "    <tr>\n",
       "      <th>1</th>\n",
       "      <td>2/18/2010 0:00</td>\n",
       "      <td>0.0</td>\n",
       "      <td>2054650.0</td>\n",
       "      <td>0.0</td>\n",
       "      <td>0.0</td>\n",
       "      <td>0.0</td>\n",
       "      <td>0.000241</td>\n",
       "      <td>0</td>\n",
       "      <td>1.0</td>\n",
       "      <td>0.0</td>\n",
       "      <td>...</td>\n",
       "      <td>154.463801</td>\n",
       "      <td>0.0</td>\n",
       "      <td>234</td>\n",
       "      <td>235</td>\n",
       "      <td>41475</td>\n",
       "      <td>235</td>\n",
       "      <td>235</td>\n",
       "      <td>18911.74</td>\n",
       "      <td>7413.0</td>\n",
       "      <td>0.0</td>\n",
       "    </tr>\n",
       "    <tr>\n",
       "      <th>2</th>\n",
       "      <td>2/19/2010 0:00</td>\n",
       "      <td>0.0</td>\n",
       "      <td>2063600.0</td>\n",
       "      <td>0.0</td>\n",
       "      <td>0.0</td>\n",
       "      <td>0.0</td>\n",
       "      <td>0.000228</td>\n",
       "      <td>0</td>\n",
       "      <td>1.0</td>\n",
       "      <td>0.0</td>\n",
       "      <td>...</td>\n",
       "      <td>1278.516635</td>\n",
       "      <td>0.0</td>\n",
       "      <td>185</td>\n",
       "      <td>183</td>\n",
       "      <td>41658</td>\n",
       "      <td>183</td>\n",
       "      <td>183</td>\n",
       "      <td>9749.98</td>\n",
       "      <td>700.0</td>\n",
       "      <td>0.0</td>\n",
       "    </tr>\n",
       "    <tr>\n",
       "      <th>3</th>\n",
       "      <td>2/20/2010 0:00</td>\n",
       "      <td>0.0</td>\n",
       "      <td>2074700.0</td>\n",
       "      <td>0.0</td>\n",
       "      <td>0.0</td>\n",
       "      <td>0.0</td>\n",
       "      <td>0.000218</td>\n",
       "      <td>0</td>\n",
       "      <td>1.0</td>\n",
       "      <td>0.0</td>\n",
       "      <td>...</td>\n",
       "      <td>22186.687990</td>\n",
       "      <td>0.0</td>\n",
       "      <td>224</td>\n",
       "      <td>224</td>\n",
       "      <td>41882</td>\n",
       "      <td>224</td>\n",
       "      <td>224</td>\n",
       "      <td>11150.03</td>\n",
       "      <td>50.0</td>\n",
       "      <td>0.0</td>\n",
       "    </tr>\n",
       "    <tr>\n",
       "      <th>4</th>\n",
       "      <td>2/21/2010 0:00</td>\n",
       "      <td>0.0</td>\n",
       "      <td>2085400.0</td>\n",
       "      <td>0.0</td>\n",
       "      <td>0.0</td>\n",
       "      <td>0.0</td>\n",
       "      <td>0.000234</td>\n",
       "      <td>0</td>\n",
       "      <td>1.0</td>\n",
       "      <td>0.0</td>\n",
       "      <td>...</td>\n",
       "      <td>689.179876</td>\n",
       "      <td>0.0</td>\n",
       "      <td>218</td>\n",
       "      <td>218</td>\n",
       "      <td>42100</td>\n",
       "      <td>218</td>\n",
       "      <td>218</td>\n",
       "      <td>12266.83</td>\n",
       "      <td>1553.0</td>\n",
       "      <td>0.0</td>\n",
       "    </tr>\n",
       "  </tbody>\n",
       "</table>\n",
       "<p>5 rows × 24 columns</p>\n",
       "</div>"
      ],
      "text/plain": [
       "             Date  btc_market_price  btc_total_bitcoins  btc_market_cap  \\\n",
       "0  2/17/2010 0:00               0.0           2043200.0             0.0   \n",
       "1  2/18/2010 0:00               0.0           2054650.0             0.0   \n",
       "2  2/19/2010 0:00               0.0           2063600.0             0.0   \n",
       "3  2/20/2010 0:00               0.0           2074700.0             0.0   \n",
       "4  2/21/2010 0:00               0.0           2085400.0             0.0   \n",
       "\n",
       "   btc_trade_volume  btc_blocks_size  btc_avg_block_size  \\\n",
       "0               0.0              0.0            0.000235   \n",
       "1               0.0              0.0            0.000241   \n",
       "2               0.0              0.0            0.000228   \n",
       "3               0.0              0.0            0.000218   \n",
       "4               0.0              0.0            0.000234   \n",
       "\n",
       "   btc_n_orphaned_blocks  btc_n_transactions_per_block  \\\n",
       "0                      0                           1.0   \n",
       "1                      0                           1.0   \n",
       "2                      0                           1.0   \n",
       "3                      0                           1.0   \n",
       "4                      0                           1.0   \n",
       "\n",
       "   btc_median_confirmation_time                  ...                   \\\n",
       "0                           0.0                  ...                    \n",
       "1                           0.0                  ...                    \n",
       "2                           0.0                  ...                    \n",
       "3                           0.0                  ...                    \n",
       "4                           0.0                  ...                    \n",
       "\n",
       "   btc_cost_per_transaction_percent  btc_cost_per_transaction  \\\n",
       "0                         31.781022                       0.0   \n",
       "1                        154.463801                       0.0   \n",
       "2                       1278.516635                       0.0   \n",
       "3                      22186.687990                       0.0   \n",
       "4                        689.179876                       0.0   \n",
       "\n",
       "   btc_n_unique_addresses  btc_n_transactions  btc_n_transactions_total  \\\n",
       "0                     241                 244                     41240   \n",
       "1                     234                 235                     41475   \n",
       "2                     185                 183                     41658   \n",
       "3                     224                 224                     41882   \n",
       "4                     218                 218                     42100   \n",
       "\n",
       "   btc_n_transactions_excluding_popular  \\\n",
       "0                                   244   \n",
       "1                                   235   \n",
       "2                                   183   \n",
       "3                                   224   \n",
       "4                                   218   \n",
       "\n",
       "   btc_n_transactions_excluding_chains_longer_than_100  btc_output_volume  \\\n",
       "0                                                244             65173.13   \n",
       "1                                                235             18911.74   \n",
       "2                                                183              9749.98   \n",
       "3                                                224             11150.03   \n",
       "4                                                218             12266.83   \n",
       "\n",
       "   btc_estimated_transaction_volume  btc_estimated_transaction_volume_usd  \n",
       "0                           36500.0                                   0.0  \n",
       "1                            7413.0                                   0.0  \n",
       "2                             700.0                                   0.0  \n",
       "3                              50.0                                   0.0  \n",
       "4                            1553.0                                   0.0  \n",
       "\n",
       "[5 rows x 24 columns]"
      ]
     },
     "execution_count": 2,
     "metadata": {},
     "output_type": "execute_result"
    }
   ],
   "source": [
    "data.head()"
   ]
  },
  {
   "cell_type": "code",
   "execution_count": 3,
   "metadata": {},
   "outputs": [
    {
     "data": {
      "text/plain": [
       "(2906, 24)"
      ]
     },
     "execution_count": 3,
     "metadata": {},
     "output_type": "execute_result"
    }
   ],
   "source": [
    "data.shape"
   ]
  },
  {
   "cell_type": "code",
   "execution_count": 4,
   "metadata": {},
   "outputs": [
    {
     "data": {
      "text/html": [
       "<div>\n",
       "<style scoped>\n",
       "    .dataframe tbody tr th:only-of-type {\n",
       "        vertical-align: middle;\n",
       "    }\n",
       "\n",
       "    .dataframe tbody tr th {\n",
       "        vertical-align: top;\n",
       "    }\n",
       "\n",
       "    .dataframe thead th {\n",
       "        text-align: right;\n",
       "    }\n",
       "</style>\n",
       "<table border=\"1\" class=\"dataframe\">\n",
       "  <thead>\n",
       "    <tr style=\"text-align: right;\">\n",
       "      <th></th>\n",
       "      <th>btc_market_price</th>\n",
       "      <th>btc_total_bitcoins</th>\n",
       "      <th>btc_market_cap</th>\n",
       "      <th>btc_trade_volume</th>\n",
       "      <th>btc_blocks_size</th>\n",
       "      <th>btc_avg_block_size</th>\n",
       "      <th>btc_n_orphaned_blocks</th>\n",
       "      <th>btc_n_transactions_per_block</th>\n",
       "      <th>btc_median_confirmation_time</th>\n",
       "      <th>btc_hash_rate</th>\n",
       "      <th>...</th>\n",
       "      <th>btc_cost_per_transaction_percent</th>\n",
       "      <th>btc_cost_per_transaction</th>\n",
       "      <th>btc_n_unique_addresses</th>\n",
       "      <th>btc_n_transactions</th>\n",
       "      <th>btc_n_transactions_total</th>\n",
       "      <th>btc_n_transactions_excluding_popular</th>\n",
       "      <th>btc_n_transactions_excluding_chains_longer_than_100</th>\n",
       "      <th>btc_output_volume</th>\n",
       "      <th>btc_estimated_transaction_volume</th>\n",
       "      <th>btc_estimated_transaction_volume_usd</th>\n",
       "    </tr>\n",
       "  </thead>\n",
       "  <tbody>\n",
       "    <tr>\n",
       "      <th>count</th>\n",
       "      <td>2906.000000</td>\n",
       "      <td>2.879000e+03</td>\n",
       "      <td>2.906000e+03</td>\n",
       "      <td>2.885000e+03</td>\n",
       "      <td>2877.000000</td>\n",
       "      <td>2906.000000</td>\n",
       "      <td>2906.000000</td>\n",
       "      <td>2906.000000</td>\n",
       "      <td>2894.000000</td>\n",
       "      <td>2.906000e+03</td>\n",
       "      <td>...</td>\n",
       "      <td>2906.000000</td>\n",
       "      <td>2906.000000</td>\n",
       "      <td>2.906000e+03</td>\n",
       "      <td>2906.000000</td>\n",
       "      <td>2.906000e+03</td>\n",
       "      <td>2906.000000</td>\n",
       "      <td>2906.000000</td>\n",
       "      <td>2.906000e+03</td>\n",
       "      <td>2.906000e+03</td>\n",
       "      <td>2.906000e+03</td>\n",
       "    </tr>\n",
       "    <tr>\n",
       "      <th>mean</th>\n",
       "      <td>839.104218</td>\n",
       "      <td>1.151138e+07</td>\n",
       "      <td>1.344255e+10</td>\n",
       "      <td>7.398381e+07</td>\n",
       "      <td>35505.502848</td>\n",
       "      <td>0.350366</td>\n",
       "      <td>0.364074</td>\n",
       "      <td>671.673651</td>\n",
       "      <td>7.501113</td>\n",
       "      <td>1.244070e+06</td>\n",
       "      <td>...</td>\n",
       "      <td>66.747821</td>\n",
       "      <td>14.639125</td>\n",
       "      <td>1.937861e+05</td>\n",
       "      <td>102081.138334</td>\n",
       "      <td>6.844558e+07</td>\n",
       "      <td>94348.852374</td>\n",
       "      <td>63140.320028</td>\n",
       "      <td>1.566216e+06</td>\n",
       "      <td>2.036475e+05</td>\n",
       "      <td>2.024338e+08</td>\n",
       "    </tr>\n",
       "    <tr>\n",
       "      <th>std</th>\n",
       "      <td>2304.972497</td>\n",
       "      <td>4.200024e+06</td>\n",
       "      <td>3.866150e+10</td>\n",
       "      <td>2.924228e+08</td>\n",
       "      <td>43618.633821</td>\n",
       "      <td>0.353168</td>\n",
       "      <td>0.842259</td>\n",
       "      <td>689.561322</td>\n",
       "      <td>4.974549</td>\n",
       "      <td>2.924141e+06</td>\n",
       "      <td>...</td>\n",
       "      <td>1761.894646</td>\n",
       "      <td>20.536083</td>\n",
       "      <td>2.089146e+05</td>\n",
       "      <td>103896.929350</td>\n",
       "      <td>8.285341e+07</td>\n",
       "      <td>103966.111763</td>\n",
       "      <td>69687.052174</td>\n",
       "      <td>2.278910e+06</td>\n",
       "      <td>2.682781e+05</td>\n",
       "      <td>5.800513e+08</td>\n",
       "    </tr>\n",
       "    <tr>\n",
       "      <th>min</th>\n",
       "      <td>0.000000</td>\n",
       "      <td>2.043200e+06</td>\n",
       "      <td>0.000000e+00</td>\n",
       "      <td>0.000000e+00</td>\n",
       "      <td>0.000000</td>\n",
       "      <td>0.000216</td>\n",
       "      <td>0.000000</td>\n",
       "      <td>1.000000</td>\n",
       "      <td>0.000000</td>\n",
       "      <td>2.250000e-05</td>\n",
       "      <td>...</td>\n",
       "      <td>0.136531</td>\n",
       "      <td>0.000000</td>\n",
       "      <td>1.100000e+02</td>\n",
       "      <td>118.000000</td>\n",
       "      <td>4.124000e+04</td>\n",
       "      <td>118.000000</td>\n",
       "      <td>118.000000</td>\n",
       "      <td>6.150000e+03</td>\n",
       "      <td>7.000000e+00</td>\n",
       "      <td>0.000000e+00</td>\n",
       "    </tr>\n",
       "    <tr>\n",
       "      <th>25%</th>\n",
       "      <td>6.653465</td>\n",
       "      <td>8.485300e+06</td>\n",
       "      <td>5.363081e+07</td>\n",
       "      <td>2.916456e+05</td>\n",
       "      <td>781.000000</td>\n",
       "      <td>0.024177</td>\n",
       "      <td>0.000000</td>\n",
       "      <td>54.000000</td>\n",
       "      <td>6.066667</td>\n",
       "      <td>1.160880e+01</td>\n",
       "      <td>...</td>\n",
       "      <td>1.181945</td>\n",
       "      <td>4.156470</td>\n",
       "      <td>1.675475e+04</td>\n",
       "      <td>8025.250000</td>\n",
       "      <td>2.413376e+06</td>\n",
       "      <td>6813.500000</td>\n",
       "      <td>6765.500000</td>\n",
       "      <td>4.901712e+05</td>\n",
       "      <td>9.600325e+04</td>\n",
       "      <td>9.581680e+05</td>\n",
       "    </tr>\n",
       "    <tr>\n",
       "      <th>50%</th>\n",
       "      <td>235.130000</td>\n",
       "      <td>1.243115e+07</td>\n",
       "      <td>3.346869e+09</td>\n",
       "      <td>1.001414e+07</td>\n",
       "      <td>15183.000000</td>\n",
       "      <td>0.196022</td>\n",
       "      <td>0.000000</td>\n",
       "      <td>375.000000</td>\n",
       "      <td>7.916667</td>\n",
       "      <td>2.176189e+04</td>\n",
       "      <td>...</td>\n",
       "      <td>2.493564</td>\n",
       "      <td>7.822430</td>\n",
       "      <td>1.304450e+05</td>\n",
       "      <td>62337.000000</td>\n",
       "      <td>3.255271e+07</td>\n",
       "      <td>53483.000000</td>\n",
       "      <td>35283.500000</td>\n",
       "      <td>1.105205e+06</td>\n",
       "      <td>1.784685e+05</td>\n",
       "      <td>3.742576e+07</td>\n",
       "    </tr>\n",
       "    <tr>\n",
       "      <th>75%</th>\n",
       "      <td>594.191164</td>\n",
       "      <td>1.520051e+07</td>\n",
       "      <td>8.075525e+09</td>\n",
       "      <td>2.834038e+07</td>\n",
       "      <td>58293.000000</td>\n",
       "      <td>0.676065</td>\n",
       "      <td>0.000000</td>\n",
       "      <td>1232.995223</td>\n",
       "      <td>10.208333</td>\n",
       "      <td>1.035363e+06</td>\n",
       "      <td>...</td>\n",
       "      <td>5.915591</td>\n",
       "      <td>14.800589</td>\n",
       "      <td>3.603765e+05</td>\n",
       "      <td>190471.250000</td>\n",
       "      <td>1.080663e+08</td>\n",
       "      <td>185901.750000</td>\n",
       "      <td>113793.250000</td>\n",
       "      <td>2.031654e+06</td>\n",
       "      <td>2.588046e+05</td>\n",
       "      <td>1.312499e+08</td>\n",
       "    </tr>\n",
       "    <tr>\n",
       "      <th>max</th>\n",
       "      <td>19498.683330</td>\n",
       "      <td>1.683769e+07</td>\n",
       "      <td>3.265250e+11</td>\n",
       "      <td>5.352016e+09</td>\n",
       "      <td>154444.590300</td>\n",
       "      <td>1.110327</td>\n",
       "      <td>7.000000</td>\n",
       "      <td>2722.625000</td>\n",
       "      <td>47.733333</td>\n",
       "      <td>2.160975e+07</td>\n",
       "      <td>...</td>\n",
       "      <td>88571.428570</td>\n",
       "      <td>161.686071</td>\n",
       "      <td>1.072861e+06</td>\n",
       "      <td>490644.000000</td>\n",
       "      <td>2.966888e+08</td>\n",
       "      <td>470650.000000</td>\n",
       "      <td>318896.000000</td>\n",
       "      <td>4.599222e+07</td>\n",
       "      <td>5.825066e+06</td>\n",
       "      <td>5.760245e+09</td>\n",
       "    </tr>\n",
       "  </tbody>\n",
       "</table>\n",
       "<p>8 rows × 23 columns</p>\n",
       "</div>"
      ],
      "text/plain": [
       "       btc_market_price  btc_total_bitcoins  btc_market_cap  btc_trade_volume  \\\n",
       "count       2906.000000        2.879000e+03    2.906000e+03      2.885000e+03   \n",
       "mean         839.104218        1.151138e+07    1.344255e+10      7.398381e+07   \n",
       "std         2304.972497        4.200024e+06    3.866150e+10      2.924228e+08   \n",
       "min            0.000000        2.043200e+06    0.000000e+00      0.000000e+00   \n",
       "25%            6.653465        8.485300e+06    5.363081e+07      2.916456e+05   \n",
       "50%          235.130000        1.243115e+07    3.346869e+09      1.001414e+07   \n",
       "75%          594.191164        1.520051e+07    8.075525e+09      2.834038e+07   \n",
       "max        19498.683330        1.683769e+07    3.265250e+11      5.352016e+09   \n",
       "\n",
       "       btc_blocks_size  btc_avg_block_size  btc_n_orphaned_blocks  \\\n",
       "count      2877.000000         2906.000000            2906.000000   \n",
       "mean      35505.502848            0.350366               0.364074   \n",
       "std       43618.633821            0.353168               0.842259   \n",
       "min           0.000000            0.000216               0.000000   \n",
       "25%         781.000000            0.024177               0.000000   \n",
       "50%       15183.000000            0.196022               0.000000   \n",
       "75%       58293.000000            0.676065               0.000000   \n",
       "max      154444.590300            1.110327               7.000000   \n",
       "\n",
       "       btc_n_transactions_per_block  btc_median_confirmation_time  \\\n",
       "count                   2906.000000                   2894.000000   \n",
       "mean                     671.673651                      7.501113   \n",
       "std                      689.561322                      4.974549   \n",
       "min                        1.000000                      0.000000   \n",
       "25%                       54.000000                      6.066667   \n",
       "50%                      375.000000                      7.916667   \n",
       "75%                     1232.995223                     10.208333   \n",
       "max                     2722.625000                     47.733333   \n",
       "\n",
       "       btc_hash_rate                  ...                   \\\n",
       "count   2.906000e+03                  ...                    \n",
       "mean    1.244070e+06                  ...                    \n",
       "std     2.924141e+06                  ...                    \n",
       "min     2.250000e-05                  ...                    \n",
       "25%     1.160880e+01                  ...                    \n",
       "50%     2.176189e+04                  ...                    \n",
       "75%     1.035363e+06                  ...                    \n",
       "max     2.160975e+07                  ...                    \n",
       "\n",
       "       btc_cost_per_transaction_percent  btc_cost_per_transaction  \\\n",
       "count                       2906.000000               2906.000000   \n",
       "mean                          66.747821                 14.639125   \n",
       "std                         1761.894646                 20.536083   \n",
       "min                            0.136531                  0.000000   \n",
       "25%                            1.181945                  4.156470   \n",
       "50%                            2.493564                  7.822430   \n",
       "75%                            5.915591                 14.800589   \n",
       "max                        88571.428570                161.686071   \n",
       "\n",
       "       btc_n_unique_addresses  btc_n_transactions  btc_n_transactions_total  \\\n",
       "count            2.906000e+03         2906.000000              2.906000e+03   \n",
       "mean             1.937861e+05       102081.138334              6.844558e+07   \n",
       "std              2.089146e+05       103896.929350              8.285341e+07   \n",
       "min              1.100000e+02          118.000000              4.124000e+04   \n",
       "25%              1.675475e+04         8025.250000              2.413376e+06   \n",
       "50%              1.304450e+05        62337.000000              3.255271e+07   \n",
       "75%              3.603765e+05       190471.250000              1.080663e+08   \n",
       "max              1.072861e+06       490644.000000              2.966888e+08   \n",
       "\n",
       "       btc_n_transactions_excluding_popular  \\\n",
       "count                           2906.000000   \n",
       "mean                           94348.852374   \n",
       "std                           103966.111763   \n",
       "min                              118.000000   \n",
       "25%                             6813.500000   \n",
       "50%                            53483.000000   \n",
       "75%                           185901.750000   \n",
       "max                           470650.000000   \n",
       "\n",
       "       btc_n_transactions_excluding_chains_longer_than_100  btc_output_volume  \\\n",
       "count                                        2906.000000         2.906000e+03   \n",
       "mean                                        63140.320028         1.566216e+06   \n",
       "std                                         69687.052174         2.278910e+06   \n",
       "min                                           118.000000         6.150000e+03   \n",
       "25%                                          6765.500000         4.901712e+05   \n",
       "50%                                         35283.500000         1.105205e+06   \n",
       "75%                                        113793.250000         2.031654e+06   \n",
       "max                                        318896.000000         4.599222e+07   \n",
       "\n",
       "       btc_estimated_transaction_volume  btc_estimated_transaction_volume_usd  \n",
       "count                      2.906000e+03                          2.906000e+03  \n",
       "mean                       2.036475e+05                          2.024338e+08  \n",
       "std                        2.682781e+05                          5.800513e+08  \n",
       "min                        7.000000e+00                          0.000000e+00  \n",
       "25%                        9.600325e+04                          9.581680e+05  \n",
       "50%                        1.784685e+05                          3.742576e+07  \n",
       "75%                        2.588046e+05                          1.312499e+08  \n",
       "max                        5.825066e+06                          5.760245e+09  \n",
       "\n",
       "[8 rows x 23 columns]"
      ]
     },
     "execution_count": 4,
     "metadata": {},
     "output_type": "execute_result"
    }
   ],
   "source": [
    "data.describe()"
   ]
  },
  {
   "cell_type": "markdown",
   "metadata": {},
   "source": [
    "### Checking for missing values"
   ]
  },
  {
   "cell_type": "code",
   "execution_count": 5,
   "metadata": {},
   "outputs": [
    {
     "name": "stdout",
     "output_type": "stream",
     "text": [
      "Date                                                   0.000000\n",
      "btc_market_price                                       0.000000\n",
      "btc_total_bitcoins                                     0.929112\n",
      "btc_market_cap                                         0.000000\n",
      "btc_trade_volume                                       0.722643\n",
      "btc_blocks_size                                        0.997935\n",
      "btc_avg_block_size                                     0.000000\n",
      "btc_n_orphaned_blocks                                  0.000000\n",
      "btc_n_transactions_per_block                           0.000000\n",
      "btc_median_confirmation_time                           0.412939\n",
      "btc_hash_rate                                          0.000000\n",
      "btc_difficulty                                         0.550585\n",
      "btc_miners_revenue                                     0.000000\n",
      "btc_transaction_fees                                   0.344116\n",
      "btc_cost_per_transaction_percent                       0.000000\n",
      "btc_cost_per_transaction                               0.000000\n",
      "btc_n_unique_addresses                                 0.000000\n",
      "btc_n_transactions                                     0.000000\n",
      "btc_n_transactions_total                               0.000000\n",
      "btc_n_transactions_excluding_popular                   0.000000\n",
      "btc_n_transactions_excluding_chains_longer_than_100    0.000000\n",
      "btc_output_volume                                      0.000000\n",
      "btc_estimated_transaction_volume                       0.000000\n",
      "btc_estimated_transaction_volume_usd                   0.000000\n",
      "dtype: float64\n"
     ]
    }
   ],
   "source": [
    "percentage_missing = (data.isnull().sum()*100)/(len(data))\n",
    "print(percentage_missing)"
   ]
  },
  {
   "cell_type": "code",
   "execution_count": 6,
   "metadata": {},
   "outputs": [
    {
     "name": "stdout",
     "output_type": "stream",
     "text": [
      "                Date  btc_market_price  btc_total_bitcoins  btc_market_cap  \\\n",
      "93    5/21/2010 0:00          0.000000           2842550.0    0.000000e+00   \n",
      "94    5/22/2010 0:00          0.000000           2852150.0    0.000000e+00   \n",
      "95    5/23/2010 0:00          0.000000           2862900.0    0.000000e+00   \n",
      "96    5/24/2010 0:00          0.000000           2872400.0    0.000000e+00   \n",
      "97    5/25/2010 0:00          0.000000           2883150.0    0.000000e+00   \n",
      "98    5/26/2010 0:00          0.000000           2893750.0    0.000000e+00   \n",
      "99    5/27/2010 0:00          0.000000           2903500.0    0.000000e+00   \n",
      "100   5/28/2010 0:00          0.000000           2914450.0    0.000000e+00   \n",
      "101   5/29/2010 0:00          0.000000           2924300.0    0.000000e+00   \n",
      "102   5/30/2010 0:00          0.000000           2931850.0    0.000000e+00   \n",
      "103   5/31/2010 0:00          0.000000           2939450.0    0.000000e+00   \n",
      "104    6/1/2010 0:00          0.000000           2946100.0    0.000000e+00   \n",
      "105    6/2/2010 0:00          0.000000           2952750.0    0.000000e+00   \n",
      "106    6/3/2010 0:00          0.000000           2960600.0    0.000000e+00   \n",
      "107    6/4/2010 0:00          0.000000           2967250.0    0.000000e+00   \n",
      "108    6/5/2010 0:00          0.000000           2974200.0    0.000000e+00   \n",
      "109    6/6/2010 0:00          0.000000           2981750.0    0.000000e+00   \n",
      "110    6/7/2010 0:00          0.000000           2989550.0    0.000000e+00   \n",
      "371   2/23/2011 0:00          0.950000                 NaN    5.224192e+06   \n",
      "372   2/24/2011 0:00          0.949900                 NaN    5.233807e+06   \n",
      "373   2/25/2011 0:00          1.000000                 NaN    5.520950e+06   \n",
      "374   2/26/2011 0:00          0.988567                 NaN    5.470235e+06   \n",
      "375   2/27/2011 0:00          0.960000                 NaN    5.325168e+06   \n",
      "376   2/28/2011 0:00          0.949231                 NaN    5.273358e+06   \n",
      "377    3/1/2011 0:00          0.970000                 NaN    5.395043e+06   \n",
      "378    3/2/2011 0:00          0.949800                 NaN    5.290718e+06   \n",
      "379    3/3/2011 0:00          0.940000                 NaN    5.244730e+06   \n",
      "380    3/4/2011 0:00          0.939200                 NaN    5.249611e+06   \n",
      "381    3/5/2011 0:00          0.918901                 NaN    5.148327e+06   \n",
      "488   6/20/2011 0:00         17.350000           6605900.0    1.146124e+08   \n",
      "...              ...               ...                 ...             ...   \n",
      "2555  2/15/2017 0:00       1012.325988          16165412.5    1.639011e+10   \n",
      "2556  2/16/2017 0:00       1035.208125          16167300.0    1.676226e+10   \n",
      "2583  3/15/2017 0:00       1257.399625          16217725.0    2.042136e+10   \n",
      "2584  3/16/2017 0:00       1180.945657          16219637.5    1.910025e+10   \n",
      "2585  3/17/2017 0:00       1091.171888          16221562.5    1.766690e+10   \n",
      "2586  3/18/2017 0:00        952.232363          16223525.0    1.529554e+10   \n",
      "2587  3/19/2017 0:00       1029.800813          16225587.5    1.662960e+10   \n",
      "2588  3/20/2017 0:00       1049.084488          16227287.5    1.690883e+10   \n",
      "2589  3/21/2017 0:00       1118.630043          16229062.5    1.816844e+10   \n",
      "2590  3/22/2017 0:00       1028.726863          16231050.0    1.655892e+10   \n",
      "2591  3/23/2017 0:00       1038.789000          16232900.0    1.677021e+10   \n",
      "2592  3/24/2017 0:00        941.919714          16235100.0    1.520579e+10   \n",
      "2593  3/25/2017 0:00        959.340086          16236762.5    1.555125e+10   \n",
      "2594  3/26/2017 0:00        956.786313          16238837.5    1.544330e+10   \n",
      "2595  3/27/2017 0:00       1037.229250          16240487.5    1.678942e+10   \n",
      "2596  3/28/2017 0:00       1046.127625          16242425.0    1.697171e+10   \n",
      "2597  3/29/2017 0:00       1040.575500          16244150.0    1.687930e+10   \n",
      "2598  3/30/2017 0:00       1037.904550          16246200.0    1.689605e+10   \n",
      "2775  9/23/2017 0:00       3776.386900          16583750.0    6.262666e+10   \n",
      "2776  9/24/2017 0:00       3703.040650          16585562.5    6.141701e+10   \n",
      "2777  9/25/2017 0:00       3942.555000          16587125.0    6.539565e+10   \n",
      "2778  9/26/2017 0:00       3910.307383          16588850.0    6.486750e+10   \n",
      "2779  9/27/2017 0:00       4202.554983          16590687.5    6.972328e+10   \n",
      "2780  9/28/2017 0:00       4201.989050          16592900.0    6.972318e+10   \n",
      "2781  9/29/2017 0:00       4193.574667          16595012.5    6.959242e+10   \n",
      "2782  9/30/2017 0:00       4335.368317          16596737.5    7.195297e+10   \n",
      "2783  10/1/2017 0:00       4360.722967          16598362.5    7.238086e+10   \n",
      "2784  10/2/2017 0:00       4386.883750          16600237.5    7.282331e+10   \n",
      "2785  10/3/2017 0:00       4293.306600          16602525.0    7.127973e+10   \n",
      "2786  10/4/2017 0:00       4225.175000          16604200.0    7.015565e+10   \n",
      "\n",
      "      btc_trade_volume  btc_blocks_size  btc_avg_block_size  \\\n",
      "93        0.000000e+00              NaN            0.000315   \n",
      "94        0.000000e+00              NaN            0.000309   \n",
      "95        0.000000e+00              NaN            0.000488   \n",
      "96        0.000000e+00              NaN            0.000332   \n",
      "97        0.000000e+00              NaN            0.000306   \n",
      "98        0.000000e+00              NaN            0.000316   \n",
      "99        0.000000e+00              NaN            0.000378   \n",
      "100       0.000000e+00              NaN            0.000281   \n",
      "101       0.000000e+00              NaN            0.000339   \n",
      "102       0.000000e+00              NaN            0.000343   \n",
      "103       0.000000e+00              NaN            0.000287   \n",
      "104       0.000000e+00              NaN            0.000362   \n",
      "105       0.000000e+00              NaN            0.000322   \n",
      "106       0.000000e+00              NaN            0.000393   \n",
      "107       0.000000e+00              NaN            0.000353   \n",
      "108       0.000000e+00              NaN            0.000304   \n",
      "109       0.000000e+00              NaN            0.000330   \n",
      "110       0.000000e+00              NaN            0.000472   \n",
      "371       6.046983e+03          10.0000            0.003094   \n",
      "372       1.274776e+04          10.0000            0.002851   \n",
      "373       4.282618e+03          10.0000            0.002908   \n",
      "374       4.459745e+03          10.0000            0.002510   \n",
      "375       2.163994e+04          10.0000            0.002615   \n",
      "376       4.093470e+03          10.0000            0.003520   \n",
      "377       2.144129e+04          10.0000            0.004832   \n",
      "378       2.522520e+03          10.0000            0.005319   \n",
      "379       2.526936e+03          10.0000            0.004894   \n",
      "380       2.467820e+03          10.0000            0.003532   \n",
      "381       1.106212e+04          10.0000            0.002567   \n",
      "488                NaN         148.0000            0.020049   \n",
      "...                ...              ...                 ...   \n",
      "2555      2.291939e+07      102655.7220            0.940088   \n",
      "2556      4.110534e+07      102803.7873            0.974114   \n",
      "2583      4.863367e+07      106717.0869            0.983984   \n",
      "2584      1.254680e+08      106868.2907            0.988260   \n",
      "2585      1.457344e+08      107021.6052            0.995549   \n",
      "2586      1.670141e+08      107169.5065            0.942046   \n",
      "2587      9.492124e+07      107317.1989            0.889713   \n",
      "2588      5.871887e+07      107450.1236            0.977387   \n",
      "2589      7.816942e+07      107589.5682            0.982004   \n",
      "2590      9.735303e+07      107747.7189            0.982303   \n",
      "2591      4.785736e+07      107890.5521            0.965089   \n",
      "2592      8.334255e+07      108043.6611            0.869938   \n",
      "2593      1.046020e+08      108168.6711            0.939925   \n",
      "2594      7.164663e+07      108281.0105            0.676743   \n",
      "2595      7.908057e+07      108399.9359            0.900950   \n",
      "2596      7.034266e+07      108552.7169            0.985684   \n",
      "2597      6.167776e+07      108687.0144            0.973170   \n",
      "2598      6.501106e+07      108844.8726            0.962550   \n",
      "2775      1.793620e+08      133849.9530            0.630480   \n",
      "2776      1.385924e+08      133945.1863            0.656782   \n",
      "2777      2.840740e+08      134059.7380            0.916414   \n",
      "2778      1.753000e+08      134192.5259            0.962231   \n",
      "2779      3.576738e+08      134317.3266            0.848984   \n",
      "2780      2.755311e+08      134466.7043            0.843942   \n",
      "2781      2.892841e+08      134607.4499            0.832814   \n",
      "2782      2.220885e+08      134715.9473            0.786213   \n",
      "2783      1.717798e+08      134834.6175            0.912847   \n",
      "2784      2.503983e+08      134984.8428            1.001502   \n",
      "2785      2.564718e+08      135145.1256            0.875862   \n",
      "2786      2.040038e+08      135257.3472            0.837474   \n",
      "\n",
      "      btc_n_orphaned_blocks  btc_n_transactions_per_block  \\\n",
      "93                        0                      1.000000   \n",
      "94                        0                      1.000000   \n",
      "95                        0                      1.000000   \n",
      "96                        0                      1.000000   \n",
      "97                        0                      1.000000   \n",
      "98                        0                      1.000000   \n",
      "99                        0                      1.000000   \n",
      "100                       0                      1.000000   \n",
      "101                       0                      1.000000   \n",
      "102                       0                      1.000000   \n",
      "103                       0                      1.000000   \n",
      "104                       0                      1.000000   \n",
      "105                       0                      1.000000   \n",
      "106                       0                      1.000000   \n",
      "107                       0                      1.000000   \n",
      "108                       0                      1.000000   \n",
      "109                       0                      1.000000   \n",
      "110                       0                      1.000000   \n",
      "371                       0                     11.000000   \n",
      "372                       0                     12.000000   \n",
      "373                       0                     17.000000   \n",
      "374                       0                     16.000000   \n",
      "375                       0                     10.000000   \n",
      "376                       0                      7.000000   \n",
      "377                       0                      7.000000   \n",
      "378                       0                      9.000000   \n",
      "379                       0                     13.000000   \n",
      "380                       0                     11.000000   \n",
      "381                       0                     12.000000   \n",
      "488                       0                     63.000000   \n",
      "...                     ...                           ...   \n",
      "2555                      0                   2120.762590   \n",
      "2556                      1                   1877.164474   \n",
      "2583                      0                   2059.394366   \n",
      "2584                      0                   2137.477124   \n",
      "2585                      0                   1897.376623   \n",
      "2586                      0                   1678.535032   \n",
      "2587                      1                   1633.969880   \n",
      "2588                      0                   2037.007353   \n",
      "2589                      0                   2028.556338   \n",
      "2590                      2                   1992.006211   \n",
      "2591                      0                   1945.074324   \n",
      "2592                      0                   1645.005682   \n",
      "2593                      0                   1826.879699   \n",
      "2594                      0                   1336.837349   \n",
      "2595                      0                   1759.780303   \n",
      "2596                      0                   1896.780645   \n",
      "2597                      0                   2057.471014   \n",
      "2598                      0                   1760.902439   \n",
      "2775                      0                   1228.078313   \n",
      "2776                      0                   1277.772414   \n",
      "2777                      0                   1812.824000   \n",
      "2778                      0                   1910.492754   \n",
      "2779                      0                   1754.836735   \n",
      "2780                      0                   1559.186441   \n",
      "2781                      0                   1505.550296   \n",
      "2782                      0                   1541.144928   \n",
      "2783                      0                   1566.561538   \n",
      "2784                      0                   1966.680000   \n",
      "2785                      0                   1541.704918   \n",
      "2786                      0                   1737.507463   \n",
      "\n",
      "      btc_median_confirmation_time                  ...                   \\\n",
      "93                        0.000000                  ...                    \n",
      "94                        0.000000                  ...                    \n",
      "95                        0.000000                  ...                    \n",
      "96                        0.000000                  ...                    \n",
      "97                        0.000000                  ...                    \n",
      "98                        0.000000                  ...                    \n",
      "99                        0.000000                  ...                    \n",
      "100                       0.000000                  ...                    \n",
      "101                       0.000000                  ...                    \n",
      "102                       0.000000                  ...                    \n",
      "103                       0.000000                  ...                    \n",
      "104                       0.000000                  ...                    \n",
      "105                       0.000000                  ...                    \n",
      "106                       0.000000                  ...                    \n",
      "107                       0.000000                  ...                    \n",
      "108                       0.000000                  ...                    \n",
      "109                       0.000000                  ...                    \n",
      "110                       0.000000                  ...                    \n",
      "371                       0.000000                  ...                    \n",
      "372                       0.000000                  ...                    \n",
      "373                       0.000000                  ...                    \n",
      "374                       0.000000                  ...                    \n",
      "375                       0.000000                  ...                    \n",
      "376                       0.000000                  ...                    \n",
      "377                       0.000000                  ...                    \n",
      "378                       0.000000                  ...                    \n",
      "379                       0.000000                  ...                    \n",
      "380                       0.000000                  ...                    \n",
      "381                       0.000000                  ...                    \n",
      "488                       0.000000                  ...                    \n",
      "...                            ...                  ...                    \n",
      "2555                     19.275000                  ...                    \n",
      "2556                     11.633333                  ...                    \n",
      "2583                     13.783333                  ...                    \n",
      "2584                     14.250000                  ...                    \n",
      "2585                      9.900000                  ...                    \n",
      "2586                     10.433333                  ...                    \n",
      "2587                      8.616667                  ...                    \n",
      "2588                     11.950000                  ...                    \n",
      "2589                     10.300000                  ...                    \n",
      "2590                     13.300000                  ...                    \n",
      "2591                     10.950000                  ...                    \n",
      "2592                      6.750000                  ...                    \n",
      "2593                      9.550000                  ...                    \n",
      "2594                      7.200000                  ...                    \n",
      "2595                     19.425000                  ...                    \n",
      "2596                     10.700000                  ...                    \n",
      "2597                     19.675000                  ...                    \n",
      "2598                     12.200000                  ...                    \n",
      "2775                           NaN                  ...                    \n",
      "2776                           NaN                  ...                    \n",
      "2777                           NaN                  ...                    \n",
      "2778                           NaN                  ...                    \n",
      "2779                           NaN                  ...                    \n",
      "2780                           NaN                  ...                    \n",
      "2781                           NaN                  ...                    \n",
      "2782                           NaN                  ...                    \n",
      "2783                           NaN                  ...                    \n",
      "2784                           NaN                  ...                    \n",
      "2785                           NaN                  ...                    \n",
      "2786                           NaN                  ...                    \n",
      "\n",
      "      btc_cost_per_transaction_percent  btc_cost_per_transaction  \\\n",
      "93                          150.040551                  0.000000   \n",
      "94                           20.766096                  0.000000   \n",
      "95                           30.158034                  0.000000   \n",
      "96                          121.467843                  0.000000   \n",
      "97                          131.097561                  0.000000   \n",
      "98                           80.586916                  0.000000   \n",
      "99                           86.766467                  0.000000   \n",
      "100                          83.629793                  0.000000   \n",
      "101                          66.210075                  0.000000   \n",
      "102                          59.956323                  0.000000   \n",
      "103                         225.075148                  0.000000   \n",
      "104                          88.761227                  0.000000   \n",
      "105                          69.960601                  0.000000   \n",
      "106                          95.140906                  0.000000   \n",
      "107                          29.873945                  0.000000   \n",
      "108                         156.179775                  0.000000   \n",
      "109                         132.456140                  0.000000   \n",
      "110                          37.857995                  0.000000   \n",
      "371                          43.965953                  4.821429   \n",
      "372                          32.802023                  5.193628   \n",
      "373                          34.808034                  5.201500   \n",
      "374                          23.695206                  6.316963   \n",
      "375                          16.664982                  5.753207   \n",
      "376                          32.774642                  4.102525   \n",
      "377                           2.646853                  3.798193   \n",
      "378                           8.270804                  2.698658   \n",
      "379                           9.560895                  2.866969   \n",
      "380                          23.496738                  4.410561   \n",
      "381                          52.501556                  6.257121   \n",
      "488                           1.388642                 17.877669   \n",
      "...                                ...                       ...   \n",
      "2555                          0.936458                  6.437088   \n",
      "2556                          0.990006                  7.525133   \n",
      "2583                          0.788574                  8.660321   \n",
      "2584                          0.514313                  7.839234   \n",
      "2585                          0.454940                  8.086693   \n",
      "2586                          0.572619                  7.797545   \n",
      "2587                          0.931148                  8.646338   \n",
      "2588                          0.668188                  7.301248   \n",
      "2589                          0.668978                  7.864683   \n",
      "2590                          0.615498                  7.258530   \n",
      "2591                          0.690922                  7.486147   \n",
      "2592                          0.578077                  7.866062   \n",
      "2593                          0.556281                  7.270841   \n",
      "2594                          0.939617                  9.555105   \n",
      "2595                          0.607263                  8.210389   \n",
      "2596                          0.530614                  7.714896   \n",
      "2597                          0.751234                  7.092248   \n",
      "2598                          0.693251                  8.115090   \n",
      "2775                          1.647615                 40.284767   \n",
      "2776                          1.952551                 37.897925   \n",
      "2777                          0.664977                 29.749202   \n",
      "2778                          0.947053                 27.810418   \n",
      "2779                          1.153254                 32.273312   \n",
      "2780                          1.172214                 35.734502   \n",
      "2781                          1.280729                 36.718495   \n",
      "2782                          1.193927                 37.231385   \n",
      "2783                          1.521732                 37.344572   \n",
      "2784                          1.063261                 30.566309   \n",
      "2785                          1.515147                 37.130903   \n",
      "2786                          1.293610                 32.878151   \n",
      "\n",
      "      btc_n_unique_addresses  btc_n_transactions  btc_n_transactions_total  \\\n",
      "93                       217                 230                     62189   \n",
      "94                       217                 227                     62416   \n",
      "95                       299                 300                     62716   \n",
      "96                       250                 262                     62978   \n",
      "97                       258                 267                     63245   \n",
      "98                       255                 259                     63504   \n",
      "99                       253                 278                     63782   \n",
      "100                      258                 265                     64047   \n",
      "101                      258                 262                     64309   \n",
      "102                      197                 200                     64509   \n",
      "103                      205                 207                     64716   \n",
      "104                      165                 178                     64894   \n",
      "105                      178                 182                     65076   \n",
      "106                      218                 219                     65295   \n",
      "107                      190                 200                     65495   \n",
      "108                      177                 188                     65683   \n",
      "109                      192                 201                     65884   \n",
      "110                      201                 211                     66095   \n",
      "371                     3480                2394                    289526   \n",
      "372                     2847                1957                    291483   \n",
      "373                     3067                2134                    293617   \n",
      "374                     2901                1964                    295581   \n",
      "375                     3198                2261                    297842   \n",
      "376                     2706                1932                    299774   \n",
      "377                     2494                1660                    301434   \n",
      "378                     4755                2974                    304408   \n",
      "379                     4099                3002                    307410   \n",
      "380                     2996                2119                    309529   \n",
      "381                     2839                1946                    311475   \n",
      "488                    23113               11278                    804159   \n",
      "...                      ...                 ...                       ...   \n",
      "2555                  495896              294786                 196931408   \n",
      "2556                  489189              285329                 197216737   \n",
      "2583                  526478              292434                 205235362   \n",
      "2584                  594405              327034                 205562396   \n",
      "2585                  532933              292196                 205854592   \n",
      "2586                  505650              263530                 206118122   \n",
      "2587                  512175              271239                 206389361   \n",
      "2588                  512637              277033                 206666394   \n",
      "2589                  541181              288055                 206954449   \n",
      "2590                  572753              320713                 207275162   \n",
      "2591                  537474              287871                 207563033   \n",
      "2592                  540389              289521                 207852554   \n",
      "2593                  490876              242975                 208095529   \n",
      "2594                  468755              221915                 208317444   \n",
      "2595                  459507              232291                 208549735   \n",
      "2596                  553956              294001                 208843736   \n",
      "2597                  534779              283931                 209127667   \n",
      "2598                  521047              288788                 209416455   \n",
      "2775                  427804              203861                 256783281   \n",
      "2776                  383448              185277                 256968558   \n",
      "2777                  505248              226603                 257195161   \n",
      "2778                  544621              263648                 257458809   \n",
      "2779                  548154              257961                 257716770   \n",
      "2780                  561792              275976                 257992746   \n",
      "2781                  569237              254438                 258247184   \n",
      "2782                  467807              212678                 258459862   \n",
      "2783                  416589              203653                 258663515   \n",
      "2784                  606137              295002                 258958517   \n",
      "2785                  591541              282132                 259240649   \n",
      "2786                  496067              232826                 259473475   \n",
      "\n",
      "      btc_n_transactions_excluding_popular  \\\n",
      "93                                     230   \n",
      "94                                     227   \n",
      "95                                     300   \n",
      "96                                     262   \n",
      "97                                     267   \n",
      "98                                     259   \n",
      "99                                     278   \n",
      "100                                    265   \n",
      "101                                    262   \n",
      "102                                    200   \n",
      "103                                    207   \n",
      "104                                    178   \n",
      "105                                    182   \n",
      "106                                    219   \n",
      "107                                    200   \n",
      "108                                    188   \n",
      "109                                    201   \n",
      "110                                    211   \n",
      "371                                   2394   \n",
      "372                                   1957   \n",
      "373                                   2134   \n",
      "374                                   1964   \n",
      "375                                   2261   \n",
      "376                                   1932   \n",
      "377                                   1660   \n",
      "378                                   2974   \n",
      "379                                   3002   \n",
      "380                                   2119   \n",
      "381                                   1946   \n",
      "488                                  11278   \n",
      "...                                    ...   \n",
      "2555                                291325   \n",
      "2556                                281408   \n",
      "2583                                287668   \n",
      "2584                                321647   \n",
      "2585                                287239   \n",
      "2586                                258496   \n",
      "2587                                266278   \n",
      "2588                                272808   \n",
      "2589                                283124   \n",
      "2590                                315238   \n",
      "2591                                282350   \n",
      "2592                                283721   \n",
      "2593                                238389   \n",
      "2594                                217800   \n",
      "2595                                227049   \n",
      "2596                                288024   \n",
      "2597                                278596   \n",
      "2598                                283301   \n",
      "2775                                196334   \n",
      "2776                                178847   \n",
      "2777                                217489   \n",
      "2778                                252939   \n",
      "2779                                245436   \n",
      "2780                                263177   \n",
      "2781                                243539   \n",
      "2782                                204213   \n",
      "2783                                196391   \n",
      "2784                                283862   \n",
      "2785                                270946   \n",
      "2786                                224107   \n",
      "\n",
      "      btc_n_transactions_excluding_chains_longer_than_100  btc_output_volume  \\\n",
      "93                                                  230         1.551296e+04   \n",
      "94                                                  227         5.633675e+04   \n",
      "95                                                  300         6.139214e+04   \n",
      "96                                                  262         1.745600e+04   \n",
      "97                                                  267         1.905000e+04   \n",
      "98                                                  259         2.406200e+04   \n",
      "99                                                  278         2.104048e+04   \n",
      "100                                                 265         4.255558e+04   \n",
      "101                                                 262         4.087512e+04   \n",
      "102                                                 200         3.053971e+04   \n",
      "103                                                 207         1.211100e+04   \n",
      "104                                                 178         1.414201e+04   \n",
      "105                                                 182         1.620197e+04   \n",
      "106                                                 219         1.651424e+04   \n",
      "107                                                 200         3.974449e+04   \n",
      "108                                                 188         1.140000e+04   \n",
      "109                                                 201         1.465000e+04   \n",
      "110                                                 211         2.845331e+04   \n",
      "371                                                1461         5.244051e+05   \n",
      "372                                                1294         2.197716e+05   \n",
      "373                                                1502         2.049831e+05   \n",
      "374                                                1292         1.875528e+05   \n",
      "375                                                1580         2.038567e+05   \n",
      "376                                                1504         1.242265e+05   \n",
      "377                                                1408         9.961048e+05   \n",
      "378                                                1594         1.775313e+06   \n",
      "379                                                1924         9.512578e+05   \n",
      "380                                                1700         2.553150e+05   \n",
      "381                                                1386         1.987456e+05   \n",
      "488                                                8032         5.015070e+06   \n",
      "...                                                 ...                  ...   \n",
      "2555                                             199797         1.750348e+06   \n",
      "2556                                             191928         2.996790e+06   \n",
      "2583                                             196607         2.274799e+06   \n",
      "2584                                             195664         3.316344e+06   \n",
      "2585                                             187317         3.122263e+06   \n",
      "2586                                             183501         2.599334e+06   \n",
      "2587                                             185919         6.359489e+06   \n",
      "2588                                             176246         3.296575e+06   \n",
      "2589                                             195500         6.200928e+06   \n",
      "2590                                             206407         5.359151e+06   \n",
      "2591                                             183630         2.379458e+06   \n",
      "2592                                             180849         3.876257e+06   \n",
      "2593                                             166144         3.359561e+06   \n",
      "2594                                             153470         1.772687e+06   \n",
      "2595                                             153873         2.337117e+06   \n",
      "2596                                             202688         2.332205e+06   \n",
      "2597                                             200692         1.812148e+06   \n",
      "2598                                             189341         2.164790e+06   \n",
      "2775                                             150384         1.314508e+06   \n",
      "2776                                             136994         1.119277e+06   \n",
      "2777                                             157854         1.995685e+06   \n",
      "2778                                             188610         2.093407e+06   \n",
      "2779                                             177916         2.168985e+06   \n",
      "2780                                             188213         2.302851e+06   \n",
      "2781                                             178820         1.960683e+06   \n",
      "2782                                             157673         1.660941e+06   \n",
      "2783                                             155978         1.439109e+06   \n",
      "2784                                             206643         2.028712e+06   \n",
      "2785                                             194978         1.622695e+06   \n",
      "2786                                             163996         1.468791e+06   \n",
      "\n",
      "      btc_estimated_transaction_volume  btc_estimated_transaction_volume_usd  \n",
      "93                          6165.00000                          0.000000e+00  \n",
      "94                         46229.00000                          0.000000e+00  \n",
      "95                         35646.00000                          0.000000e+00  \n",
      "96                          7821.00000                          0.000000e+00  \n",
      "97                          8200.00000                          0.000000e+00  \n",
      "98                         13154.00000                          0.000000e+00  \n",
      "99                         11237.00000                          0.000000e+00  \n",
      "100                        13093.00000                          0.000000e+00  \n",
      "101                        14877.00000                          0.000000e+00  \n",
      "102                        12593.00000                          0.000000e+00  \n",
      "103                         3377.00000                          0.000000e+00  \n",
      "104                         7492.00000                          0.000000e+00  \n",
      "105                         9505.00000                          0.000000e+00  \n",
      "106                         8251.00000                          0.000000e+00  \n",
      "107                        22260.00000                          0.000000e+00  \n",
      "108                         4450.00000                          0.000000e+00  \n",
      "109                         5700.00000                          0.000000e+00  \n",
      "110                        20603.00000                          0.000000e+00  \n",
      "371                        27635.00000                          2.625300e+04  \n",
      "372                        32620.00000                          3.098600e+04  \n",
      "373                        31889.00000                          3.188900e+04  \n",
      "374                        52964.00000                          5.235900e+04  \n",
      "375                        81308.00000                          7.805600e+04  \n",
      "376                        25477.00000                          2.418400e+04  \n",
      "377                       245575.00000                          2.382070e+05  \n",
      "378                       102167.00000                          9.703800e+04  \n",
      "379                        95765.00000                          9.001900e+04  \n",
      "380                        42351.00000                          3.977600e+04  \n",
      "381                        25239.00000                          2.319200e+04  \n",
      "488                       836861.00000                          1.451954e+07  \n",
      "...                                ...                                   ...  \n",
      "2555                      199854.02100                          2.026320e+08  \n",
      "2556                      209183.42620                          2.168814e+08  \n",
      "2583                      255049.77290                          3.211587e+08  \n",
      "2584                      423293.50780                          4.984704e+08  \n",
      "2585                      476895.83810                          5.193873e+08  \n",
      "2586                      380629.78810                          3.588578e+08  \n",
      "2587                      245744.71240                          2.518638e+08  \n",
      "2588                      290510.52500                          3.027120e+08  \n",
      "2589                      302496.85820                          3.386452e+08  \n",
      "2590                      370726.22270                          3.782149e+08  \n",
      "2591                      301915.09370                          3.119085e+08  \n",
      "2592                      420627.14950                          3.939594e+08  \n",
      "2593                      331578.12280                          3.175789e+08  \n",
      "2594                      237293.77610                          2.256688e+08  \n",
      "2595                      303796.69770                          3.140650e+08  \n",
      "2596                      409096.06400                          4.274645e+08  \n",
      "2597                      257967.03420                          2.680535e+08  \n",
      "2598                      325048.83020                          3.380508e+08  \n",
      "2775                      131990.54340                          4.984474e+08  \n",
      "2776                       97112.70531                          3.596123e+08  \n",
      "2777                      257132.18200                          1.013758e+09  \n",
      "2778                      197991.63520                          7.742082e+08  \n",
      "2779                      171774.68540                          7.218926e+08  \n",
      "2780                      200215.26200                          8.413023e+08  \n",
      "2781                      173950.30270                          7.294736e+08  \n",
      "2782                      152977.67790                          6.632146e+08  \n",
      "2783                      114609.74280                          4.997813e+08  \n",
      "2784                      193317.80500                          8.480627e+08  \n",
      "2785                      161042.77870                          6.914060e+08  \n",
      "2786                      140052.46330                          5.917462e+08  \n",
      "\n",
      "[115 rows x 24 columns]\n"
     ]
    }
   ],
   "source": [
    "print(data[data.isnull().any(axis=1)])"
   ]
  },
  {
   "cell_type": "markdown",
   "metadata": {},
   "source": [
    "### Impute the missing values using forward fill option"
   ]
  },
  {
   "cell_type": "code",
   "execution_count": 7,
   "metadata": {},
   "outputs": [
    {
     "name": "stdout",
     "output_type": "stream",
     "text": [
      "Date                                                   0.0\n",
      "btc_market_price                                       0.0\n",
      "btc_total_bitcoins                                     0.0\n",
      "btc_market_cap                                         0.0\n",
      "btc_trade_volume                                       0.0\n",
      "btc_blocks_size                                        0.0\n",
      "btc_avg_block_size                                     0.0\n",
      "btc_n_orphaned_blocks                                  0.0\n",
      "btc_n_transactions_per_block                           0.0\n",
      "btc_median_confirmation_time                           0.0\n",
      "btc_hash_rate                                          0.0\n",
      "btc_difficulty                                         0.0\n",
      "btc_miners_revenue                                     0.0\n",
      "btc_transaction_fees                                   0.0\n",
      "btc_cost_per_transaction_percent                       0.0\n",
      "btc_cost_per_transaction                               0.0\n",
      "btc_n_unique_addresses                                 0.0\n",
      "btc_n_transactions                                     0.0\n",
      "btc_n_transactions_total                               0.0\n",
      "btc_n_transactions_excluding_popular                   0.0\n",
      "btc_n_transactions_excluding_chains_longer_than_100    0.0\n",
      "btc_output_volume                                      0.0\n",
      "btc_estimated_transaction_volume                       0.0\n",
      "btc_estimated_transaction_volume_usd                   0.0\n",
      "dtype: float64\n"
     ]
    }
   ],
   "source": [
    "data = data.fillna(method = 'ffill')\n",
    "percentage_missing = (data.isnull().sum()*100)/(len(data))\n",
    "print(percentage_missing)"
   ]
  },
  {
   "cell_type": "markdown",
   "metadata": {},
   "source": [
    "### Ploting the distribution of bitcoin"
   ]
  },
  {
   "cell_type": "code",
   "execution_count": 8,
   "metadata": {},
   "outputs": [
    {
     "data": {
      "text/plain": [
       "(array([2649.,   93.,   65.,   23.,   11.,   21.,    6.,   21.,   12.,\n",
       "           5.]), array([    0.      ,  1949.868333,  3899.736666,  5849.604999,\n",
       "         7799.473332,  9749.341665, 11699.209998, 13649.078331,\n",
       "        15598.946664, 17548.814997, 19498.68333 ]), <a list of 10 Patch objects>)"
      ]
     },
     "execution_count": 8,
     "metadata": {},
     "output_type": "execute_result"
    },
    {
     "data": {
      "image/png": "[encoded data removed]",
      "text/plain": [
       "<matplotlib.figure.Figure at 0x21192c94588>"
      ]
     },
     "metadata": {},
     "output_type": "display_data"
    }
   ],
   "source": [
    "plt.hist(data['btc_market_price'],bins=10)"
   ]
  },
  {
   "cell_type": "markdown",
   "metadata": {},
   "source": [
    "### Preprocessing of data for modeling"
   ]
  },
  {
   "cell_type": "code",
   "execution_count": 9,
   "metadata": {
    "collapsed": true
   },
   "outputs": [],
   "source": [
    "#Defining X and Y variables\n",
    "x = data.drop([\"Date\", \"btc_market_price\"], axis = 1)\n",
    "y = pd.DataFrame(data[\"btc_market_price\"])"
   ]
  },
  {
   "cell_type": "code",
   "execution_count": 10,
   "metadata": {
    "collapsed": true
   },
   "outputs": [],
   "source": [
    "# Randomising data\n",
    "from sklearn.model_selection import train_test_split\n",
    "x_train, x_test, y_train, y_test = train_test_split(x, y, test_size = 0.2, random_state = 10)"
   ]
  },
  {
   "cell_type": "code",
   "execution_count": 11,
   "metadata": {
    "collapsed": true
   },
   "outputs": [],
   "source": [
    "from sklearn.preprocessing import MinMaxScaler\n",
    "mm_x = MinMaxScaler()\n",
    "x_train = mm_x.fit_transform(x_train)\n",
    "x_test = mm_x.fit_transform(x_test)"
   ]
  },
  {
   "cell_type": "markdown",
   "metadata": {},
   "source": [
    "### Importing libraries for score and GridSearch"
   ]
  },
  {
   "cell_type": "code",
   "execution_count": 12,
   "metadata": {
    "collapsed": true
   },
   "outputs": [],
   "source": [
    "from sklearn.model_selection import cross_val_score\n",
    "from sklearn.model_selection import GridSearchCV"
   ]
  },
  {
   "cell_type": "markdown",
   "metadata": {},
   "source": [
    "### Linear Regression"
   ]
  },
  {
   "cell_type": "code",
   "execution_count": 13,
   "metadata": {
    "collapsed": true
   },
   "outputs": [],
   "source": [
    "from sklearn.linear_model import LinearRegression\n",
    "regressor = LinearRegression()\n",
    "linReg = regressor.fit(x_train, y_train)"
   ]
  },
  {
   "cell_type": "code",
   "execution_count": 14,
   "metadata": {},
   "outputs": [
    {
     "name": "stdout",
     "output_type": "stream",
     "text": [
      "Validation score: [0.99995419 0.99995768 0.99997558 0.99995469 0.99994304]\n",
      "Mean validation score: 0.9999570372036015\n"
     ]
    }
   ],
   "source": [
    "scores = cross_val_score(regressor, x_train, y_train, cv=5, scoring = 'r2')\n",
    "print(\"Validation score: {}\".format(scores))\n",
    "print(\"Mean validation score: {}\".format(scores.mean()))"
   ]
  },
  {
   "cell_type": "code",
   "execution_count": 15,
   "metadata": {},
   "outputs": [
    {
     "name": "stdout",
     "output_type": "stream",
     "text": [
      "R-squared score (training): 1.000\n",
      "R-squared score (test): 0.912\n"
     ]
    }
   ],
   "source": [
    "print('R-squared score (training): {:.3f}'\n",
    "     .format(linReg.score(x_train, y_train)))\n",
    "print('R-squared score (test): {:.3f}'\n",
    "     .format(linReg.score(x_test, y_test)))"
   ]
  },
  {
   "cell_type": "markdown",
   "metadata": {},
   "source": [
    "### Lasso regression"
   ]
  },
  {
   "cell_type": "code",
   "execution_count": 16,
   "metadata": {},
   "outputs": [
    {
     "name": "stdout",
     "output_type": "stream",
     "text": [
      "Best Parameters for lasso: {'alpha': 0.01, 'max_iter': 1000}\n",
      "Best Score for lasso: 1.00\n"
     ]
    }
   ],
   "source": [
    "#Grid Search of Lasso Regression and obtaining best parameters and scores\n",
    "from sklearn.linear_model import Lasso\n",
    "lasso = Lasso()\n",
    "param_grid = {'alpha': [0.001, 0.005, 0.01, 0.05, 0.1, 0.5, 1, 10, 50, 100],\n",
    "             'max_iter':[1000,10000]}\n",
    "grid_search_lasso = GridSearchCV(lasso, param_grid, cv = 5)\n",
    "grid_search_lasso.fit(x_train, y_train)\n",
    "print(\"Best Parameters for lasso: {}\".format(grid_search_lasso.best_params_))\n",
    "print(\"Best Score for lasso: {:.2f}\".format(grid_search_lasso.best_score_))"
   ]
  },
  {
   "cell_type": "code",
   "execution_count": 17,
   "metadata": {
    "collapsed": true
   },
   "outputs": [],
   "source": [
    "lasso = Lasso(alpha = 0.01, max_iter= 1000)\n",
    "lassoReg = lasso.fit(x_train,y_train)"
   ]
  },
  {
   "cell_type": "code",
   "execution_count": 18,
   "metadata": {
    "scrolled": true
   },
   "outputs": [
    {
     "name": "stdout",
     "output_type": "stream",
     "text": [
      "Validation score: [0.99992303 0.9999394  0.99995742 0.99993134 0.99990756]\n",
      "Mean validation score: 0.9999317487138024\n"
     ]
    }
   ],
   "source": [
    "scores = cross_val_score(lasso, x_train, y_train, cv=5, scoring = 'r2')\n",
    "print(\"Validation score: {}\".format(scores))\n",
    "print(\"Mean validation score: {}\".format(scores.mean()))"
   ]
  },
  {
   "cell_type": "code",
   "execution_count": 19,
   "metadata": {},
   "outputs": [
    {
     "name": "stdout",
     "output_type": "stream",
     "text": [
      "R-squared score (training): 1.000\n",
      "R-squared score (test): 0.909\n"
     ]
    }
   ],
   "source": [
    "print('R-squared score (training): {:.3f}'\n",
    "     .format(lassoReg.score(x_train, y_train)))\n",
    "print('R-squared score (test): {:.3f}'\n",
    "     .format(lassoReg.score(x_test, y_test)))"
   ]
  },
  {
   "cell_type": "markdown",
   "metadata": {},
   "source": [
    "### Ridge Regression"
   ]
  },
  {
   "cell_type": "code",
   "execution_count": 20,
   "metadata": {},
   "outputs": [
    {
     "name": "stdout",
     "output_type": "stream",
     "text": [
      "Best Parameters for ridge: {'alpha': 0.001, 'max_iter': 1000}\n",
      "Best Score for ridge: 1.00\n"
     ]
    }
   ],
   "source": [
    "#Grid Search of Ridge Regression and obtaining best parameters and scores\n",
    "from sklearn.linear_model import Ridge\n",
    "ridge = Ridge()\n",
    "param_grid = {'alpha': [0.001, 0.005, 0.01, 0.05, 0.1, 0.5, 1, 10, 50, 100],\n",
    "              'max_iter':[1000,10000]}\n",
    "grid_search_ridge = GridSearchCV(ridge, param_grid, cv = 5, scoring = 'r2')\n",
    "grid_search_ridge.fit(x_train, y_train)\n",
    "print(\"Best Parameters for ridge: {}\".format(grid_search_ridge.best_params_))\n",
    "print(\"Best Score for ridge: {:.2f}\".format(grid_search_ridge.best_score_))\n"
   ]
  },
  {
   "cell_type": "code",
   "execution_count": 21,
   "metadata": {
    "collapsed": true
   },
   "outputs": [],
   "source": [
    "ridge = Ridge(alpha= 0.001, max_iter = 1000)\n",
    "ridgeReg = ridge.fit(x_train,y_train)"
   ]
  },
  {
   "cell_type": "code",
   "execution_count": 22,
   "metadata": {},
   "outputs": [
    {
     "name": "stdout",
     "output_type": "stream",
     "text": [
      "Validation score: [0.99995331 0.99995757 0.99997486 0.99995372 0.99994322]\n",
      "Mean validation score: 0.9999565376600923\n"
     ]
    }
   ],
   "source": [
    "scores = cross_val_score(ridge, x_train, y_train, cv=5, scoring = 'r2')\n",
    "print(\"Validation score: {}\".format(scores))\n",
    "print(\"Mean validation score: {}\".format(scores.mean()))"
   ]
  },
  {
   "cell_type": "code",
   "execution_count": 23,
   "metadata": {},
   "outputs": [
    {
     "name": "stdout",
     "output_type": "stream",
     "text": [
      "R-squared score (training): 1.000\n",
      "R-squared score (test): 0.912\n"
     ]
    }
   ],
   "source": [
    "print('R-squared score (training): {:.3f}'\n",
    "     .format(ridgeReg.score(x_train, y_train)))\n",
    "print('R-squared score (test): {:.3f}'\n",
    "     .format(ridgeReg.score(x_test, y_test)))"
   ]
  },
  {
   "cell_type": "markdown",
   "metadata": {},
   "source": [
    "### Polynomial Regression"
   ]
  },
  {
   "cell_type": "code",
   "execution_count": 24,
   "metadata": {
    "collapsed": true
   },
   "outputs": [],
   "source": [
    "#Grid Search of Polynomial Regression and obtaining best parameters and scores\n",
    "from sklearn.preprocessing import PolynomialFeatures\n",
    "polyreg = PolynomialFeatures(degree = 2)\n",
    "x_train_poly = polyreg.fit_transform(x_train)\n",
    "x_test_poly = polyreg.transform(x_test)\n",
    "regressor1 = LinearRegression()\n",
    "polyReg = regressor1.fit(x_train_poly, y_train)"
   ]
  },
  {
   "cell_type": "code",
   "execution_count": 25,
   "metadata": {},
   "outputs": [
    {
     "name": "stdout",
     "output_type": "stream",
     "text": [
      "Validation score: [0.99999364 0.99999426 0.99998492 0.99999126 0.99971321]\n",
      "Mean validation score: 0.9999354571964887\n"
     ]
    }
   ],
   "source": [
    "scores = cross_val_score(regressor1, x_train_poly, y_train, cv=5, scoring = 'r2')\n",
    "print(\"Validation score: {}\".format(scores))\n",
    "print(\"Mean validation score: {}\".format(scores.mean()))"
   ]
  },
  {
   "cell_type": "code",
   "execution_count": 26,
   "metadata": {
    "scrolled": true
   },
   "outputs": [
    {
     "name": "stdout",
     "output_type": "stream",
     "text": [
      "R-squared score (training): 1.000\n",
      "R-squared score (test): -154187128.709\n"
     ]
    }
   ],
   "source": [
    "print('R-squared score (training): {:.3f}'\n",
    "     .format(polyReg.score(x_train_poly, y_train)))\n",
    "print('R-squared score (test): {:.3f}'\n",
    "     .format(polyReg.score(x_test_poly, y_test)))"
   ]
  },
  {
   "cell_type": "code",
   "execution_count": 40,
   "metadata": {},
   "outputs": [
    {
     "name": "stdout",
     "output_type": "stream",
     "text": [
      "(poly deg 2 + ridge) R-squared score (training): 0.999\n",
      "(poly deg 2 + ridge) R-squared score (test): 0.918\n"
     ]
    }
   ],
   "source": [
    "linRidge = Ridge().fit(x_train_poly, y_train)\n",
    "\n",
    "print('(poly deg 2 + ridge) R-squared score (training): {:.3f}'\n",
    "     .format(linRidge.score(x_train_poly, y_train)))\n",
    "print('(poly deg 2 + ridge) R-squared score (test): {:.3f}'\n",
    "     .format(linRidge.score(x_test_poly, y_test)))"
   ]
  },
  {
   "cell_type": "markdown",
   "metadata": {},
   "source": [
    "### SVM Linear"
   ]
  },
  {
   "cell_type": "code",
   "execution_count": 27,
   "metadata": {},
   "outputs": [
    {
     "ename": "AttributeError",
     "evalue": "'DataFrame' object has no attribute 'ravel'",
     "output_type": "error",
     "traceback": [
      "\u001b[1;31m---------------------------------------------------------------------------\u001b[0m",
      "\u001b[1;31mAttributeError\u001b[0m                            Traceback (most recent call last)",
      "\u001b[1;32m<ipython-input-27-71426cc7b9f7>\u001b[0m in \u001b[0;36m<module>\u001b[1;34m()\u001b[0m\n\u001b[0;32m      5\u001b[0m               'gamma' : [0.001, 0.005, 0.01, 0.05, 0.1, 0.5, 1, 10, 50, 100]}\n\u001b[0;32m      6\u001b[0m \u001b[0mgrid_search_svmlinear\u001b[0m \u001b[1;33m=\u001b[0m \u001b[0mGridSearchCV\u001b[0m\u001b[1;33m(\u001b[0m\u001b[0msvmlinear\u001b[0m\u001b[1;33m,\u001b[0m \u001b[0mparam_grid\u001b[0m\u001b[1;33m,\u001b[0m \u001b[0mcv\u001b[0m \u001b[1;33m=\u001b[0m \u001b[1;36m5\u001b[0m\u001b[1;33m,\u001b[0m \u001b[0mscoring\u001b[0m \u001b[1;33m=\u001b[0m \u001b[1;34m'r2'\u001b[0m\u001b[1;33m)\u001b[0m\u001b[1;33m\u001b[0m\u001b[0m\n\u001b[1;32m----> 7\u001b[1;33m \u001b[0mgrid_search_svmlinear\u001b[0m\u001b[1;33m.\u001b[0m\u001b[0mfit\u001b[0m\u001b[1;33m(\u001b[0m\u001b[0mx_train\u001b[0m\u001b[1;33m,\u001b[0m \u001b[0my_train\u001b[0m\u001b[1;33m.\u001b[0m\u001b[0mravel\u001b[0m\u001b[1;33m(\u001b[0m\u001b[1;33m)\u001b[0m\u001b[1;33m)\u001b[0m\u001b[1;33m\u001b[0m\u001b[0m\n\u001b[0m\u001b[0;32m      8\u001b[0m \u001b[0mprint\u001b[0m\u001b[1;33m(\u001b[0m\u001b[1;34m\"Best Parameters for linear SVM: {}\"\u001b[0m\u001b[1;33m.\u001b[0m\u001b[0mformat\u001b[0m\u001b[1;33m(\u001b[0m\u001b[0mgrid_search_svmlinear\u001b[0m\u001b[1;33m.\u001b[0m\u001b[0mbest_params_\u001b[0m\u001b[1;33m)\u001b[0m\u001b[1;33m)\u001b[0m\u001b[1;33m\u001b[0m\u001b[0m\n\u001b[0;32m      9\u001b[0m \u001b[0mprint\u001b[0m\u001b[1;33m(\u001b[0m\u001b[1;34m\"Best Score for linear SVM: {:.2f}\"\u001b[0m\u001b[1;33m.\u001b[0m\u001b[0mformat\u001b[0m\u001b[1;33m(\u001b[0m\u001b[0mgrid_search_svmlinear\u001b[0m\u001b[1;33m.\u001b[0m\u001b[0mbest_score_\u001b[0m\u001b[1;33m)\u001b[0m\u001b[1;33m)\u001b[0m\u001b[1;33m\u001b[0m\u001b[0m\n",
      "\u001b[1;32m~\\Anaconda3\\lib\\site-packages\\pandas\\core\\generic.py\u001b[0m in \u001b[0;36m__getattr__\u001b[1;34m(self, name)\u001b[0m\n\u001b[0;32m   3612\u001b[0m             \u001b[1;32mif\u001b[0m \u001b[0mname\u001b[0m \u001b[1;32min\u001b[0m \u001b[0mself\u001b[0m\u001b[1;33m.\u001b[0m\u001b[0m_info_axis\u001b[0m\u001b[1;33m:\u001b[0m\u001b[1;33m\u001b[0m\u001b[0m\n\u001b[0;32m   3613\u001b[0m                 \u001b[1;32mreturn\u001b[0m \u001b[0mself\u001b[0m\u001b[1;33m[\u001b[0m\u001b[0mname\u001b[0m\u001b[1;33m]\u001b[0m\u001b[1;33m\u001b[0m\u001b[0m\n\u001b[1;32m-> 3614\u001b[1;33m             \u001b[1;32mreturn\u001b[0m \u001b[0mobject\u001b[0m\u001b[1;33m.\u001b[0m\u001b[0m__getattribute__\u001b[0m\u001b[1;33m(\u001b[0m\u001b[0mself\u001b[0m\u001b[1;33m,\u001b[0m \u001b[0mname\u001b[0m\u001b[1;33m)\u001b[0m\u001b[1;33m\u001b[0m\u001b[0m\n\u001b[0m\u001b[0;32m   3615\u001b[0m \u001b[1;33m\u001b[0m\u001b[0m\n\u001b[0;32m   3616\u001b[0m     \u001b[1;32mdef\u001b[0m \u001b[0m__setattr__\u001b[0m\u001b[1;33m(\u001b[0m\u001b[0mself\u001b[0m\u001b[1;33m,\u001b[0m \u001b[0mname\u001b[0m\u001b[1;33m,\u001b[0m \u001b[0mvalue\u001b[0m\u001b[1;33m)\u001b[0m\u001b[1;33m:\u001b[0m\u001b[1;33m\u001b[0m\u001b[0m\n",
      "\u001b[1;31mAttributeError\u001b[0m: 'DataFrame' object has no attribute 'ravel'"
     ]
    }
   ],
   "source": [
    "#Grid Search of Linear SVM and obtaining best parameters and scores\n",
    "from sklearn.svm import SVR\n",
    "svmlinear = SVR(kernel = 'linear')\n",
    "param_grid = {'C': [0.001, 0.005, 0.01, 0.05, 0.1, 0.5, 1, 10, 50, 100],\n",
    "              'gamma' : [0.001, 0.005, 0.01, 0.05, 0.1, 0.5, 1, 10, 50, 100]}\n",
    "grid_search_svmlinear = GridSearchCV(svmlinear, param_grid, cv = 5, scoring = 'r2')\n",
    "grid_search_svmlinear.fit(x_train, y_train.ravel())\n",
    "print(\"Best Parameters for linear SVM: {}\".format(grid_search_svmlinear.best_params_))\n",
    "print(\"Best Score for linear SVM: {:.2f}\".format(grid_search_svmlinear.best_score_))"
   ]
  },
  {
   "cell_type": "code",
   "execution_count": 28,
   "metadata": {},
   "outputs": [
    {
     "name": "stderr",
     "output_type": "stream",
     "text": [
      "C:\\Users\\MY-PC\\Anaconda3\\lib\\site-packages\\sklearn\\utils\\validation.py:578: DataConversionWarning: A column-vector y was passed when a 1d array was expected. Please change the shape of y to (n_samples, ), for example using ravel().\n",
      "  y = column_or_1d(y, warn=True)\n"
     ]
    }
   ],
   "source": [
    "svmLinear = SVR(kernel= 'linear', C = 0.01, gamma = 0.001)\n",
    "svmLinearReg = svmLinear.fit(x_train,y_train)"
   ]
  },
  {
   "cell_type": "code",
   "execution_count": 29,
   "metadata": {},
   "outputs": [
    {
     "name": "stderr",
     "output_type": "stream",
     "text": [
      "C:\\Users\\MY-PC\\Anaconda3\\lib\\site-packages\\sklearn\\utils\\validation.py:578: DataConversionWarning: A column-vector y was passed when a 1d array was expected. Please change the shape of y to (n_samples, ), for example using ravel().\n",
      "  y = column_or_1d(y, warn=True)\n",
      "C:\\Users\\MY-PC\\Anaconda3\\lib\\site-packages\\sklearn\\utils\\validation.py:578: DataConversionWarning: A column-vector y was passed when a 1d array was expected. Please change the shape of y to (n_samples, ), for example using ravel().\n",
      "  y = column_or_1d(y, warn=True)\n",
      "C:\\Users\\MY-PC\\Anaconda3\\lib\\site-packages\\sklearn\\utils\\validation.py:578: DataConversionWarning: A column-vector y was passed when a 1d array was expected. Please change the shape of y to (n_samples, ), for example using ravel().\n",
      "  y = column_or_1d(y, warn=True)\n",
      "C:\\Users\\MY-PC\\Anaconda3\\lib\\site-packages\\sklearn\\utils\\validation.py:578: DataConversionWarning: A column-vector y was passed when a 1d array was expected. Please change the shape of y to (n_samples, ), for example using ravel().\n",
      "  y = column_or_1d(y, warn=True)\n",
      "C:\\Users\\MY-PC\\Anaconda3\\lib\\site-packages\\sklearn\\utils\\validation.py:578: DataConversionWarning: A column-vector y was passed when a 1d array was expected. Please change the shape of y to (n_samples, ), for example using ravel().\n",
      "  y = column_or_1d(y, warn=True)\n"
     ]
    },
    {
     "name": "stdout",
     "output_type": "stream",
     "text": [
      "Validation score: [-0.05741475 -0.07244745 -0.07832478 -0.06267438 -0.07206614]\n",
      "Mean validation score: -0.06858550174019813\n"
     ]
    }
   ],
   "source": [
    "scores = cross_val_score(svmLinear, x_train, y_train, cv=5, scoring = 'r2')\n",
    "print(\"Validation score: {}\".format(scores))\n",
    "print(\"Mean validation score: {}\".format(scores.mean()))"
   ]
  },
  {
   "cell_type": "code",
   "execution_count": 30,
   "metadata": {},
   "outputs": [
    {
     "name": "stdout",
     "output_type": "stream",
     "text": [
      "R-squared score (training): -0.067\n",
      "R-squared score (test): -0.050\n"
     ]
    }
   ],
   "source": [
    "print('R-squared score (training): {:.3f}'\n",
    "     .format(svmLinearReg.score(x_train, y_train)))\n",
    "print('R-squared score (test): {:.3f}'\n",
    "     .format(svmLinearReg.score(x_test, y_test)))"
   ]
  },
  {
   "cell_type": "markdown",
   "metadata": {},
   "source": [
    "### SVM Kernel"
   ]
  },
  {
   "cell_type": "code",
   "execution_count": 48,
   "metadata": {},
   "outputs": [
    {
     "ename": "AttributeError",
     "evalue": "'DataFrame' object has no attribute 'ravel'",
     "output_type": "error",
     "traceback": [
      "\u001b[1;31m---------------------------------------------------------------------------\u001b[0m",
      "\u001b[1;31mAttributeError\u001b[0m                            Traceback (most recent call last)",
      "\u001b[1;32m<ipython-input-48-aa5f3cf93bfc>\u001b[0m in \u001b[0;36m<module>\u001b[1;34m()\u001b[0m\n\u001b[0;32m      4\u001b[0m               'gamma' : [0.001, 0.005, 0.01, 0.05, 0.1, 0.5, 1, 10, 50, 100]}\n\u001b[0;32m      5\u001b[0m \u001b[0mgrid_search_svmkernel\u001b[0m \u001b[1;33m=\u001b[0m \u001b[0mGridSearchCV\u001b[0m\u001b[1;33m(\u001b[0m\u001b[0msvmkernel\u001b[0m\u001b[1;33m,\u001b[0m \u001b[0mparam_grid\u001b[0m\u001b[1;33m,\u001b[0m \u001b[0mcv\u001b[0m \u001b[1;33m=\u001b[0m \u001b[1;36m5\u001b[0m\u001b[1;33m)\u001b[0m\u001b[1;33m\u001b[0m\u001b[0m\n\u001b[1;32m----> 6\u001b[1;33m \u001b[0mgrid_search_svmkernel\u001b[0m\u001b[1;33m.\u001b[0m\u001b[0mfit\u001b[0m\u001b[1;33m(\u001b[0m\u001b[0mx_train\u001b[0m\u001b[1;33m,\u001b[0m \u001b[0my_train\u001b[0m\u001b[1;33m.\u001b[0m\u001b[0mravel\u001b[0m\u001b[1;33m(\u001b[0m\u001b[1;33m)\u001b[0m\u001b[1;33m)\u001b[0m\u001b[1;33m\u001b[0m\u001b[0m\n\u001b[0m\u001b[0;32m      7\u001b[0m \u001b[0mprint\u001b[0m\u001b[1;33m(\u001b[0m\u001b[1;34m\"Best Parameters for kernel SVM: {}\"\u001b[0m\u001b[1;33m.\u001b[0m\u001b[0mformat\u001b[0m\u001b[1;33m(\u001b[0m\u001b[0mgrid_search_svmkernel\u001b[0m\u001b[1;33m.\u001b[0m\u001b[0mbest_params_\u001b[0m\u001b[1;33m)\u001b[0m\u001b[1;33m)\u001b[0m\u001b[1;33m\u001b[0m\u001b[0m\n\u001b[0;32m      8\u001b[0m \u001b[0mprint\u001b[0m\u001b[1;33m(\u001b[0m\u001b[1;34m\"Best Score for kernel SVM: {:.2f}\"\u001b[0m\u001b[1;33m.\u001b[0m\u001b[0mformat\u001b[0m\u001b[1;33m(\u001b[0m\u001b[0mgrid_search_svmkernel\u001b[0m\u001b[1;33m.\u001b[0m\u001b[0mbest_score_\u001b[0m\u001b[1;33m)\u001b[0m\u001b[1;33m)\u001b[0m\u001b[1;33m\u001b[0m\u001b[0m\n",
      "\u001b[1;32m~\\Anaconda3\\lib\\site-packages\\pandas\\core\\generic.py\u001b[0m in \u001b[0;36m__getattr__\u001b[1;34m(self, name)\u001b[0m\n\u001b[0;32m   3612\u001b[0m             \u001b[1;32mif\u001b[0m \u001b[0mname\u001b[0m \u001b[1;32min\u001b[0m \u001b[0mself\u001b[0m\u001b[1;33m.\u001b[0m\u001b[0m_info_axis\u001b[0m\u001b[1;33m:\u001b[0m\u001b[1;33m\u001b[0m\u001b[0m\n\u001b[0;32m   3613\u001b[0m                 \u001b[1;32mreturn\u001b[0m \u001b[0mself\u001b[0m\u001b[1;33m[\u001b[0m\u001b[0mname\u001b[0m\u001b[1;33m]\u001b[0m\u001b[1;33m\u001b[0m\u001b[0m\n\u001b[1;32m-> 3614\u001b[1;33m             \u001b[1;32mreturn\u001b[0m \u001b[0mobject\u001b[0m\u001b[1;33m.\u001b[0m\u001b[0m__getattribute__\u001b[0m\u001b[1;33m(\u001b[0m\u001b[0mself\u001b[0m\u001b[1;33m,\u001b[0m \u001b[0mname\u001b[0m\u001b[1;33m)\u001b[0m\u001b[1;33m\u001b[0m\u001b[0m\n\u001b[0m\u001b[0;32m   3615\u001b[0m \u001b[1;33m\u001b[0m\u001b[0m\n\u001b[0;32m   3616\u001b[0m     \u001b[1;32mdef\u001b[0m \u001b[0m__setattr__\u001b[0m\u001b[1;33m(\u001b[0m\u001b[0mself\u001b[0m\u001b[1;33m,\u001b[0m \u001b[0mname\u001b[0m\u001b[1;33m,\u001b[0m \u001b[0mvalue\u001b[0m\u001b[1;33m)\u001b[0m\u001b[1;33m:\u001b[0m\u001b[1;33m\u001b[0m\u001b[0m\n",
      "\u001b[1;31mAttributeError\u001b[0m: 'DataFrame' object has no attribute 'ravel'"
     ]
    }
   ],
   "source": [
    "#Grid Search of Kernel SVM and obtaining best parameters and scores\n",
    "svmkernel = SVR(kernel = 'rbf')\n",
    "param_grid = {'C': [0.001, 0.005, 0.01, 0.05, 0.1, 0.5, 1, 10, 50, 100], \n",
    "              'gamma' : [0.001, 0.005, 0.01, 0.05, 0.1, 0.5, 1, 10, 50, 100]}\n",
    "grid_search_svmkernel = GridSearchCV(svmkernel, param_grid, cv = 5)\n",
    "grid_search_svmkernel.fit(x_train, y_train.ravel())\n",
    "print(\"Best Parameters for kernel SVM: {}\".format(grid_search_svmkernel.best_params_))\n",
    "print(\"Best Score for kernel SVM: {:.2f}\".format(grid_search_svmkernel.best_score_))"
   ]
  },
  {
   "cell_type": "code",
   "execution_count": 49,
   "metadata": {},
   "outputs": [
    {
     "name": "stderr",
     "output_type": "stream",
     "text": [
      "C:\\Users\\MY-PC\\Anaconda3\\lib\\site-packages\\sklearn\\utils\\validation.py:578: DataConversionWarning: A column-vector y was passed when a 1d array was expected. Please change the shape of y to (n_samples, ), for example using ravel().\n",
      "  y = column_or_1d(y, warn=True)\n"
     ]
    }
   ],
   "source": [
    "svmKernal = SVR(kernel= 'rbf', C = 0.01, gamma = 0.001)\n",
    "svmKernalReg = svmKernal.fit(x_train,y_train)"
   ]
  },
  {
   "cell_type": "code",
   "execution_count": 33,
   "metadata": {},
   "outputs": [
    {
     "name": "stderr",
     "output_type": "stream",
     "text": [
      "C:\\Users\\MY-PC\\Anaconda3\\lib\\site-packages\\sklearn\\utils\\validation.py:578: DataConversionWarning: A column-vector y was passed when a 1d array was expected. Please change the shape of y to (n_samples, ), for example using ravel().\n",
      "  y = column_or_1d(y, warn=True)\n",
      "C:\\Users\\MY-PC\\Anaconda3\\lib\\site-packages\\sklearn\\utils\\validation.py:578: DataConversionWarning: A column-vector y was passed when a 1d array was expected. Please change the shape of y to (n_samples, ), for example using ravel().\n",
      "  y = column_or_1d(y, warn=True)\n",
      "C:\\Users\\MY-PC\\Anaconda3\\lib\\site-packages\\sklearn\\utils\\validation.py:578: DataConversionWarning: A column-vector y was passed when a 1d array was expected. Please change the shape of y to (n_samples, ), for example using ravel().\n",
      "  y = column_or_1d(y, warn=True)\n",
      "C:\\Users\\MY-PC\\Anaconda3\\lib\\site-packages\\sklearn\\utils\\validation.py:578: DataConversionWarning: A column-vector y was passed when a 1d array was expected. Please change the shape of y to (n_samples, ), for example using ravel().\n",
      "  y = column_or_1d(y, warn=True)\n",
      "C:\\Users\\MY-PC\\Anaconda3\\lib\\site-packages\\sklearn\\utils\\validation.py:578: DataConversionWarning: A column-vector y was passed when a 1d array was expected. Please change the shape of y to (n_samples, ), for example using ravel().\n",
      "  y = column_or_1d(y, warn=True)\n"
     ]
    },
    {
     "name": "stdout",
     "output_type": "stream",
     "text": [
      "Validation score: [-0.06211594 -0.07701355 -0.08207223 -0.06712871 -0.07651425]\n",
      "Mean validation score: -0.07296893705207994\n"
     ]
    }
   ],
   "source": [
    "scores = cross_val_score(svmKernal, x_train, y_train, cv=5, scoring = 'r2')\n",
    "print(\"Validation score: {}\".format(scores))\n",
    "print(\"Mean validation score: {}\".format(scores.mean()))"
   ]
  },
  {
   "cell_type": "code",
   "execution_count": 34,
   "metadata": {},
   "outputs": [
    {
     "name": "stdout",
     "output_type": "stream",
     "text": [
      "R-squared score (training): -0.072\n",
      "R-squared score (test): -0.057\n"
     ]
    }
   ],
   "source": [
    "print('R-squared score (training): {:.3f}'\n",
    "     .format(svmKernalReg.score(x_train, y_train)))\n",
    "print('R-squared score (test): {:.3f}'\n",
    "     .format(svmKernalReg.score(x_test, y_test)))"
   ]
  },
  {
   "cell_type": "markdown",
   "metadata": {},
   "source": [
    "### KNN Regressor"
   ]
  },
  {
   "cell_type": "code",
   "execution_count": 35,
   "metadata": {},
   "outputs": [
    {
     "name": "stdout",
     "output_type": "stream",
     "text": [
      "Best Parameters for KNN repressor: {'n_neighbors': 4}\n",
      "Best Score for KNN repressor: 0.99\n"
     ]
    }
   ],
   "source": [
    "#Grid Search of KNN Repressor and obtaining best parameters and scores\n",
    "from sklearn.neighbors import KNeighborsRegressor\n",
    "knnreg = KNeighborsRegressor(p=2, metric = 'minkowski')\n",
    "param_grid = {'n_neighbors': [3, 4, 5, 6, 7]}\n",
    "grid_search_knnreg = GridSearchCV(knnreg, param_grid, cv = 5, scoring = 'r2')\n",
    "grid_search_knnreg.fit(x_train, y_train)\n",
    "print(\"Best Parameters for KNN repressor: {}\".format(grid_search_knnreg.best_params_))\n",
    "print(\"Best Score for KNN repressor: {:.2f}\".format(grid_search_knnreg.best_score_))"
   ]
  },
  {
   "cell_type": "code",
   "execution_count": 36,
   "metadata": {
    "collapsed": true
   },
   "outputs": [],
   "source": [
    "knn = KNeighborsRegressor(n_neighbors=4)\n",
    "knnReg = knn.fit(x_train,y_train)"
   ]
  },
  {
   "cell_type": "code",
   "execution_count": 37,
   "metadata": {},
   "outputs": [
    {
     "name": "stdout",
     "output_type": "stream",
     "text": [
      "Validation score: [0.99540924 0.98935047 0.99279812 0.99434254 0.99278354]\n",
      "Mean validation score: 0.9929367808007467\n"
     ]
    }
   ],
   "source": [
    "scores = cross_val_score(knn, x_train, y_train, cv=5, scoring = 'r2')\n",
    "print(\"Validation score: {}\".format(scores))\n",
    "print(\"Mean validation score: {}\".format(scores.mean()))"
   ]
  },
  {
   "cell_type": "code",
   "execution_count": 38,
   "metadata": {},
   "outputs": [
    {
     "name": "stdout",
     "output_type": "stream",
     "text": [
      "R-squared score (training): 0.997\n",
      "R-squared score (test): 0.951\n"
     ]
    }
   ],
   "source": [
    "print('R-squared score (training): {:.3f}'\n",
    "     .format(knnReg.score(x_train, y_train)))\n",
    "print('R-squared score (test): {:.3f}'\n",
    "     .format(knnReg.score(x_test, y_test)))"
   ]
  },
  {
   "cell_type": "markdown",
   "metadata": {},
   "source": [
    "### Choosing the best model\n",
    "\n",
    "By looking at the R squared value of the test and train data, we can see that KNN - Regressor with 4 neigbours explains most of the dependent variable's variance. Hence, we use KNN Regressor to train on the entire dataset and then predict the market price for the test dataset"
   ]
  },
  {
   "cell_type": "code",
   "execution_count": 39,
   "metadata": {
    "collapsed": true
   },
   "outputs": [],
   "source": [
    "#using entire train data to build KNN Regressor model\n",
    "knn = KNeighborsRegressor(n_neighbors=4)\n",
    "knnReg = knn.fit(x,y)"
   ]
  },
  {
   "cell_type": "markdown",
   "metadata": {},
   "source": [
    "### Importing Test Dataset and Data Preprocessing"
   ]
  },
  {
   "cell_type": "code",
   "execution_count": 40,
   "metadata": {
    "collapsed": true
   },
   "outputs": [],
   "source": [
    "#Importing the test set\n",
    "test = pd.read_csv('test_set(1).csv')"
   ]
  },
  {
   "cell_type": "code",
   "execution_count": 41,
   "metadata": {},
   "outputs": [
    {
     "name": "stdout",
     "output_type": "stream",
     "text": [
      "Date                                                   0.0\n",
      "btc_total_bitcoins                                     0.0\n",
      "btc_market_cap                                         0.0\n",
      "btc_trade_volume                                       0.0\n",
      "btc_blocks_size                                        0.0\n",
      "btc_avg_block_size                                     0.0\n",
      "btc_n_orphaned_blocks                                  0.0\n",
      "btc_n_transactions_per_block                           0.0\n",
      "btc_median_confirmation_time                           0.0\n",
      "btc_hash_rate                                          0.0\n",
      "btc_difficulty                                         0.0\n",
      "btc_miners_revenue                                     0.0\n",
      "btc_transaction_fees                                   0.0\n",
      "btc_cost_per_transaction_percent                       0.0\n",
      "btc_cost_per_transaction                               0.0\n",
      "btc_n_unique_addresses                                 0.0\n",
      "btc_n_transactions                                     0.0\n",
      "btc_n_transactions_total                               0.0\n",
      "btc_n_transactions_excluding_popular                   0.0\n",
      "btc_n_transactions_excluding_chains_longer_than_100    0.0\n",
      "btc_output_volume                                      0.0\n",
      "btc_estimated_transaction_volume                       0.0\n",
      "btc_estimated_transaction_volume_usd                   0.0\n",
      "dtype: float64\n"
     ]
    }
   ],
   "source": [
    "percentage_missing_test = (test.isnull().sum()*100)/(len(data))\n",
    "print(percentage_missing_test)"
   ]
  },
  {
   "cell_type": "code",
   "execution_count": 42,
   "metadata": {
    "collapsed": true
   },
   "outputs": [],
   "source": [
    "#Dropping the date column\n",
    "w = test.drop([\"Date\"], axis = 1)\n",
    "\n",
    "# Feature Scaling for test set matrix\n",
    "mm_w = MinMaxScaler()\n",
    "w = mm_w.fit_transform(w)"
   ]
  },
  {
   "cell_type": "code",
   "execution_count": 43,
   "metadata": {
    "collapsed": true
   },
   "outputs": [],
   "source": [
    "#Predict marketprice\n",
    "y_pred_marketprice = knnReg.predict(w)"
   ]
  }
 ],
 "metadata": {
  "kernelspec": {
   "display_name": "Python 3",
   "language": "python",
   "name": "python3"
  },
  "language_info": {
   "codemirror_mode": {
    "name": "ipython",
    "version": 3
   },
   "file_extension": ".py",
   "mimetype": "text/x-python",
   "name": "python",
   "nbconvert_exporter": "python",
   "pygments_lexer": "ipython3",
   "version": "3.6.3"
  }
 },
 "nbformat": 4,
 "nbformat_minor": 2
}
