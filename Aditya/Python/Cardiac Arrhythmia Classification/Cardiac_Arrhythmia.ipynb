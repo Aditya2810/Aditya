{
 "cells": [
  {
   "cell_type": "markdown",
   "metadata": {},
   "source": [
    "### Cardiac Arrhythmia Multy-Class Classification \n",
    "\n",
    "Analyze data and address missing data if there is any. \n",
    "\n",
    "Decide aboute a good evaluation strategy and justify your choice. \n",
    "\n",
    "Find the best parameters for the following classification models: \n",
    "- KNN classifcation \n",
    "- Logistic Regression\n",
    "- Linear Supprt Vector Machine\n",
    "- Kerenilzed Support Vector Machine\n",
    "- Decision Tree\n",
    "- Random Forest \n",
    "\n",
    "Then use different bagging and boosting methods to boost the results? Do you see any significant change? Why or why not? \n",
    "\n",
    "Next, use data reduction method you have learned in class to reduce the size of data, and agian try above models. Do you get better results? Justify your answer. \n",
    "\n",
    "<font color = 'red'>Due date for full credit: April 4, 11:59 PM\n",
    "    <br>\n",
    "    Due date for partial credit: April 6, 11:59 PM.\n",
    "    <br> No submission will be accepted after April 6. \n",
    "    <br> Please note that your term paper is also due April 6. \n",
    "    </font>"
   ]
  },
  {
   "cell_type": "code",
   "execution_count": 1,
   "metadata": {},
   "outputs": [
    {
     "data": {
      "text/plain": [
       "'C:\\\\Users\\\\adity\\\\Downloads\\\\ML'"
      ]
     },
     "execution_count": 1,
     "metadata": {},
     "output_type": "execute_result"
    }
   ],
   "source": [
    "import numpy as np\n",
    "import pandas as pd\n",
    "import os\n",
    "\n",
    "os.getcwd()"
   ]
  },
  {
   "cell_type": "code",
   "execution_count": 2,
   "metadata": {},
   "outputs": [
    {
     "data": {
      "text/html": [
       "<div>\n",
       "<style>\n",
       "    .dataframe thead tr:only-child th {\n",
       "        text-align: right;\n",
       "    }\n",
       "\n",
       "    .dataframe thead th {\n",
       "        text-align: left;\n",
       "    }\n",
       "\n",
       "    .dataframe tbody tr th {\n",
       "        vertical-align: top;\n",
       "    }\n",
       "</style>\n",
       "<table border=\"1\" class=\"dataframe\">\n",
       "  <thead>\n",
       "    <tr style=\"text-align: right;\">\n",
       "      <th></th>\n",
       "      <th>0</th>\n",
       "      <th>1</th>\n",
       "      <th>2</th>\n",
       "      <th>3</th>\n",
       "      <th>4</th>\n",
       "      <th>5</th>\n",
       "      <th>6</th>\n",
       "      <th>7</th>\n",
       "      <th>8</th>\n",
       "      <th>9</th>\n",
       "      <th>...</th>\n",
       "      <th>270</th>\n",
       "      <th>271</th>\n",
       "      <th>272</th>\n",
       "      <th>273</th>\n",
       "      <th>274</th>\n",
       "      <th>275</th>\n",
       "      <th>276</th>\n",
       "      <th>277</th>\n",
       "      <th>278</th>\n",
       "      <th>279</th>\n",
       "    </tr>\n",
       "  </thead>\n",
       "  <tbody>\n",
       "    <tr>\n",
       "      <th>0</th>\n",
       "      <td>75</td>\n",
       "      <td>0</td>\n",
       "      <td>190</td>\n",
       "      <td>80</td>\n",
       "      <td>91</td>\n",
       "      <td>193</td>\n",
       "      <td>371</td>\n",
       "      <td>174</td>\n",
       "      <td>121</td>\n",
       "      <td>-16</td>\n",
       "      <td>...</td>\n",
       "      <td>0.0</td>\n",
       "      <td>9.0</td>\n",
       "      <td>-0.9</td>\n",
       "      <td>0.0</td>\n",
       "      <td>0</td>\n",
       "      <td>0.9</td>\n",
       "      <td>2.9</td>\n",
       "      <td>23.3</td>\n",
       "      <td>49.4</td>\n",
       "      <td>8</td>\n",
       "    </tr>\n",
       "    <tr>\n",
       "      <th>1</th>\n",
       "      <td>56</td>\n",
       "      <td>1</td>\n",
       "      <td>165</td>\n",
       "      <td>64</td>\n",
       "      <td>81</td>\n",
       "      <td>174</td>\n",
       "      <td>401</td>\n",
       "      <td>149</td>\n",
       "      <td>39</td>\n",
       "      <td>25</td>\n",
       "      <td>...</td>\n",
       "      <td>0.0</td>\n",
       "      <td>8.5</td>\n",
       "      <td>0.0</td>\n",
       "      <td>0.0</td>\n",
       "      <td>0</td>\n",
       "      <td>0.2</td>\n",
       "      <td>2.1</td>\n",
       "      <td>20.4</td>\n",
       "      <td>38.8</td>\n",
       "      <td>6</td>\n",
       "    </tr>\n",
       "    <tr>\n",
       "      <th>2</th>\n",
       "      <td>54</td>\n",
       "      <td>0</td>\n",
       "      <td>172</td>\n",
       "      <td>95</td>\n",
       "      <td>138</td>\n",
       "      <td>163</td>\n",
       "      <td>386</td>\n",
       "      <td>185</td>\n",
       "      <td>102</td>\n",
       "      <td>96</td>\n",
       "      <td>...</td>\n",
       "      <td>0.0</td>\n",
       "      <td>9.5</td>\n",
       "      <td>-2.4</td>\n",
       "      <td>0.0</td>\n",
       "      <td>0</td>\n",
       "      <td>0.3</td>\n",
       "      <td>3.4</td>\n",
       "      <td>12.3</td>\n",
       "      <td>49.0</td>\n",
       "      <td>10</td>\n",
       "    </tr>\n",
       "    <tr>\n",
       "      <th>3</th>\n",
       "      <td>55</td>\n",
       "      <td>0</td>\n",
       "      <td>175</td>\n",
       "      <td>94</td>\n",
       "      <td>100</td>\n",
       "      <td>202</td>\n",
       "      <td>380</td>\n",
       "      <td>179</td>\n",
       "      <td>143</td>\n",
       "      <td>28</td>\n",
       "      <td>...</td>\n",
       "      <td>0.0</td>\n",
       "      <td>12.2</td>\n",
       "      <td>-2.2</td>\n",
       "      <td>0.0</td>\n",
       "      <td>0</td>\n",
       "      <td>0.4</td>\n",
       "      <td>2.6</td>\n",
       "      <td>34.6</td>\n",
       "      <td>61.6</td>\n",
       "      <td>1</td>\n",
       "    </tr>\n",
       "    <tr>\n",
       "      <th>4</th>\n",
       "      <td>75</td>\n",
       "      <td>0</td>\n",
       "      <td>190</td>\n",
       "      <td>80</td>\n",
       "      <td>88</td>\n",
       "      <td>181</td>\n",
       "      <td>360</td>\n",
       "      <td>177</td>\n",
       "      <td>103</td>\n",
       "      <td>-16</td>\n",
       "      <td>...</td>\n",
       "      <td>0.0</td>\n",
       "      <td>13.1</td>\n",
       "      <td>-3.6</td>\n",
       "      <td>0.0</td>\n",
       "      <td>0</td>\n",
       "      <td>-0.1</td>\n",
       "      <td>3.9</td>\n",
       "      <td>25.4</td>\n",
       "      <td>62.8</td>\n",
       "      <td>7</td>\n",
       "    </tr>\n",
       "  </tbody>\n",
       "</table>\n",
       "<p>5 rows × 280 columns</p>\n",
       "</div>"
      ],
      "text/plain": [
       "   0    1    2    3    4    5    6    7    8    9   ...   270   271  272  273  \\\n",
       "0   75    0  190   80   91  193  371  174  121  -16 ...   0.0   9.0 -0.9  0.0   \n",
       "1   56    1  165   64   81  174  401  149   39   25 ...   0.0   8.5  0.0  0.0   \n",
       "2   54    0  172   95  138  163  386  185  102   96 ...   0.0   9.5 -2.4  0.0   \n",
       "3   55    0  175   94  100  202  380  179  143   28 ...   0.0  12.2 -2.2  0.0   \n",
       "4   75    0  190   80   88  181  360  177  103  -16 ...   0.0  13.1 -3.6  0.0   \n",
       "\n",
       "   274  275  276   277   278  279  \n",
       "0    0  0.9  2.9  23.3  49.4    8  \n",
       "1    0  0.2  2.1  20.4  38.8    6  \n",
       "2    0  0.3  3.4  12.3  49.0   10  \n",
       "3    0  0.4  2.6  34.6  61.6    1  \n",
       "4    0 -0.1  3.9  25.4  62.8    7  \n",
       "\n",
       "[5 rows x 280 columns]"
      ]
     },
     "execution_count": 2,
     "metadata": {},
     "output_type": "execute_result"
    }
   ],
   "source": [
    "data = pd.read_csv('cardiac_arrhythmia.csv', header = None, na_values=['?'])\n",
    "data.head()"
   ]
  },
  {
   "cell_type": "code",
   "execution_count": 3,
   "metadata": {},
   "outputs": [
    {
     "data": {
      "text/plain": [
       "['col1',\n",
       " 'col2',\n",
       " 'col3',\n",
       " 'col4',\n",
       " 'col5',\n",
       " 'col6',\n",
       " 'col7',\n",
       " 'col8',\n",
       " 'col9',\n",
       " 'col10',\n",
       " 'col11',\n",
       " 'col12',\n",
       " 'col13',\n",
       " 'col14',\n",
       " 'col15',\n",
       " 'col16',\n",
       " 'col17',\n",
       " 'col18',\n",
       " 'col19',\n",
       " 'col20',\n",
       " 'col21',\n",
       " 'col22',\n",
       " 'col23',\n",
       " 'col24',\n",
       " 'col25',\n",
       " 'col26',\n",
       " 'col27',\n",
       " 'col28',\n",
       " 'col29',\n",
       " 'col30',\n",
       " 'col31',\n",
       " 'col32',\n",
       " 'col33',\n",
       " 'col34',\n",
       " 'col35',\n",
       " 'col36',\n",
       " 'col37',\n",
       " 'col38',\n",
       " 'col39',\n",
       " 'col40',\n",
       " 'col41',\n",
       " 'col42',\n",
       " 'col43',\n",
       " 'col44',\n",
       " 'col45',\n",
       " 'col46',\n",
       " 'col47',\n",
       " 'col48',\n",
       " 'col49',\n",
       " 'col50',\n",
       " 'col51',\n",
       " 'col52',\n",
       " 'col53',\n",
       " 'col54',\n",
       " 'col55',\n",
       " 'col56',\n",
       " 'col57',\n",
       " 'col58',\n",
       " 'col59',\n",
       " 'col60',\n",
       " 'col61',\n",
       " 'col62',\n",
       " 'col63',\n",
       " 'col64',\n",
       " 'col65',\n",
       " 'col66',\n",
       " 'col67',\n",
       " 'col68',\n",
       " 'col69',\n",
       " 'col70',\n",
       " 'col71',\n",
       " 'col72',\n",
       " 'col73',\n",
       " 'col74',\n",
       " 'col75',\n",
       " 'col76',\n",
       " 'col77',\n",
       " 'col78',\n",
       " 'col79',\n",
       " 'col80',\n",
       " 'col81',\n",
       " 'col82',\n",
       " 'col83',\n",
       " 'col84',\n",
       " 'col85',\n",
       " 'col86',\n",
       " 'col87',\n",
       " 'col88',\n",
       " 'col89',\n",
       " 'col90',\n",
       " 'col91',\n",
       " 'col92',\n",
       " 'col93',\n",
       " 'col94',\n",
       " 'col95',\n",
       " 'col96',\n",
       " 'col97',\n",
       " 'col98',\n",
       " 'col99',\n",
       " 'col100',\n",
       " 'col101',\n",
       " 'col102',\n",
       " 'col103',\n",
       " 'col104',\n",
       " 'col105',\n",
       " 'col106',\n",
       " 'col107',\n",
       " 'col108',\n",
       " 'col109',\n",
       " 'col110',\n",
       " 'col111',\n",
       " 'col112',\n",
       " 'col113',\n",
       " 'col114',\n",
       " 'col115',\n",
       " 'col116',\n",
       " 'col117',\n",
       " 'col118',\n",
       " 'col119',\n",
       " 'col120',\n",
       " 'col121',\n",
       " 'col122',\n",
       " 'col123',\n",
       " 'col124',\n",
       " 'col125',\n",
       " 'col126',\n",
       " 'col127',\n",
       " 'col128',\n",
       " 'col129',\n",
       " 'col130',\n",
       " 'col131',\n",
       " 'col132',\n",
       " 'col133',\n",
       " 'col134',\n",
       " 'col135',\n",
       " 'col136',\n",
       " 'col137',\n",
       " 'col138',\n",
       " 'col139',\n",
       " 'col140',\n",
       " 'col141',\n",
       " 'col142',\n",
       " 'col143',\n",
       " 'col144',\n",
       " 'col145',\n",
       " 'col146',\n",
       " 'col147',\n",
       " 'col148',\n",
       " 'col149',\n",
       " 'col150',\n",
       " 'col151',\n",
       " 'col152',\n",
       " 'col153',\n",
       " 'col154',\n",
       " 'col155',\n",
       " 'col156',\n",
       " 'col157',\n",
       " 'col158',\n",
       " 'col159',\n",
       " 'col160',\n",
       " 'col161',\n",
       " 'col162',\n",
       " 'col163',\n",
       " 'col164',\n",
       " 'col165',\n",
       " 'col166',\n",
       " 'col167',\n",
       " 'col168',\n",
       " 'col169',\n",
       " 'col170',\n",
       " 'col171',\n",
       " 'col172',\n",
       " 'col173',\n",
       " 'col174',\n",
       " 'col175',\n",
       " 'col176',\n",
       " 'col177',\n",
       " 'col178',\n",
       " 'col179',\n",
       " 'col180',\n",
       " 'col181',\n",
       " 'col182',\n",
       " 'col183',\n",
       " 'col184',\n",
       " 'col185',\n",
       " 'col186',\n",
       " 'col187',\n",
       " 'col188',\n",
       " 'col189',\n",
       " 'col190',\n",
       " 'col191',\n",
       " 'col192',\n",
       " 'col193',\n",
       " 'col194',\n",
       " 'col195',\n",
       " 'col196',\n",
       " 'col197',\n",
       " 'col198',\n",
       " 'col199',\n",
       " 'col200',\n",
       " 'col201',\n",
       " 'col202',\n",
       " 'col203',\n",
       " 'col204',\n",
       " 'col205',\n",
       " 'col206',\n",
       " 'col207',\n",
       " 'col208',\n",
       " 'col209',\n",
       " 'col210',\n",
       " 'col211',\n",
       " 'col212',\n",
       " 'col213',\n",
       " 'col214',\n",
       " 'col215',\n",
       " 'col216',\n",
       " 'col217',\n",
       " 'col218',\n",
       " 'col219',\n",
       " 'col220',\n",
       " 'col221',\n",
       " 'col222',\n",
       " 'col223',\n",
       " 'col224',\n",
       " 'col225',\n",
       " 'col226',\n",
       " 'col227',\n",
       " 'col228',\n",
       " 'col229',\n",
       " 'col230',\n",
       " 'col231',\n",
       " 'col232',\n",
       " 'col233',\n",
       " 'col234',\n",
       " 'col235',\n",
       " 'col236',\n",
       " 'col237',\n",
       " 'col238',\n",
       " 'col239',\n",
       " 'col240',\n",
       " 'col241',\n",
       " 'col242',\n",
       " 'col243',\n",
       " 'col244',\n",
       " 'col245',\n",
       " 'col246',\n",
       " 'col247',\n",
       " 'col248',\n",
       " 'col249',\n",
       " 'col250',\n",
       " 'col251',\n",
       " 'col252',\n",
       " 'col253',\n",
       " 'col254',\n",
       " 'col255',\n",
       " 'col256',\n",
       " 'col257',\n",
       " 'col258',\n",
       " 'col259',\n",
       " 'col260',\n",
       " 'col261',\n",
       " 'col262',\n",
       " 'col263',\n",
       " 'col264',\n",
       " 'col265',\n",
       " 'col266',\n",
       " 'col267',\n",
       " 'col268',\n",
       " 'col269',\n",
       " 'col270',\n",
       " 'col271',\n",
       " 'col272',\n",
       " 'col273',\n",
       " 'col274',\n",
       " 'col275',\n",
       " 'col276',\n",
       " 'col277',\n",
       " 'col278',\n",
       " 'col279',\n",
       " 'col280']"
      ]
     },
     "execution_count": 3,
     "metadata": {},
     "output_type": "execute_result"
    }
   ],
   "source": [
    "name = 'col'\n",
    "new_col = [name + str(i) for i in range(1,281)]\n",
    "new_col   "
   ]
  },
  {
   "cell_type": "code",
   "execution_count": 4,
   "metadata": {},
   "outputs": [
    {
     "data": {
      "text/html": [
       "<div>\n",
       "<style>\n",
       "    .dataframe thead tr:only-child th {\n",
       "        text-align: right;\n",
       "    }\n",
       "\n",
       "    .dataframe thead th {\n",
       "        text-align: left;\n",
       "    }\n",
       "\n",
       "    .dataframe tbody tr th {\n",
       "        vertical-align: top;\n",
       "    }\n",
       "</style>\n",
       "<table border=\"1\" class=\"dataframe\">\n",
       "  <thead>\n",
       "    <tr style=\"text-align: right;\">\n",
       "      <th></th>\n",
       "      <th>col1</th>\n",
       "      <th>col2</th>\n",
       "      <th>col3</th>\n",
       "      <th>col4</th>\n",
       "      <th>col5</th>\n",
       "      <th>col6</th>\n",
       "      <th>col7</th>\n",
       "      <th>col8</th>\n",
       "      <th>col9</th>\n",
       "      <th>col10</th>\n",
       "      <th>...</th>\n",
       "      <th>col271</th>\n",
       "      <th>col272</th>\n",
       "      <th>col273</th>\n",
       "      <th>col274</th>\n",
       "      <th>col275</th>\n",
       "      <th>col276</th>\n",
       "      <th>col277</th>\n",
       "      <th>col278</th>\n",
       "      <th>col279</th>\n",
       "      <th>col280</th>\n",
       "    </tr>\n",
       "  </thead>\n",
       "  <tbody>\n",
       "    <tr>\n",
       "      <th>0</th>\n",
       "      <td>75</td>\n",
       "      <td>0</td>\n",
       "      <td>190</td>\n",
       "      <td>80</td>\n",
       "      <td>91</td>\n",
       "      <td>193</td>\n",
       "      <td>371</td>\n",
       "      <td>174</td>\n",
       "      <td>121</td>\n",
       "      <td>-16</td>\n",
       "      <td>...</td>\n",
       "      <td>0.0</td>\n",
       "      <td>9.0</td>\n",
       "      <td>-0.9</td>\n",
       "      <td>0.0</td>\n",
       "      <td>0</td>\n",
       "      <td>0.9</td>\n",
       "      <td>2.9</td>\n",
       "      <td>23.3</td>\n",
       "      <td>49.4</td>\n",
       "      <td>8</td>\n",
       "    </tr>\n",
       "    <tr>\n",
       "      <th>1</th>\n",
       "      <td>56</td>\n",
       "      <td>1</td>\n",
       "      <td>165</td>\n",
       "      <td>64</td>\n",
       "      <td>81</td>\n",
       "      <td>174</td>\n",
       "      <td>401</td>\n",
       "      <td>149</td>\n",
       "      <td>39</td>\n",
       "      <td>25</td>\n",
       "      <td>...</td>\n",
       "      <td>0.0</td>\n",
       "      <td>8.5</td>\n",
       "      <td>0.0</td>\n",
       "      <td>0.0</td>\n",
       "      <td>0</td>\n",
       "      <td>0.2</td>\n",
       "      <td>2.1</td>\n",
       "      <td>20.4</td>\n",
       "      <td>38.8</td>\n",
       "      <td>6</td>\n",
       "    </tr>\n",
       "    <tr>\n",
       "      <th>2</th>\n",
       "      <td>54</td>\n",
       "      <td>0</td>\n",
       "      <td>172</td>\n",
       "      <td>95</td>\n",
       "      <td>138</td>\n",
       "      <td>163</td>\n",
       "      <td>386</td>\n",
       "      <td>185</td>\n",
       "      <td>102</td>\n",
       "      <td>96</td>\n",
       "      <td>...</td>\n",
       "      <td>0.0</td>\n",
       "      <td>9.5</td>\n",
       "      <td>-2.4</td>\n",
       "      <td>0.0</td>\n",
       "      <td>0</td>\n",
       "      <td>0.3</td>\n",
       "      <td>3.4</td>\n",
       "      <td>12.3</td>\n",
       "      <td>49.0</td>\n",
       "      <td>10</td>\n",
       "    </tr>\n",
       "    <tr>\n",
       "      <th>3</th>\n",
       "      <td>55</td>\n",
       "      <td>0</td>\n",
       "      <td>175</td>\n",
       "      <td>94</td>\n",
       "      <td>100</td>\n",
       "      <td>202</td>\n",
       "      <td>380</td>\n",
       "      <td>179</td>\n",
       "      <td>143</td>\n",
       "      <td>28</td>\n",
       "      <td>...</td>\n",
       "      <td>0.0</td>\n",
       "      <td>12.2</td>\n",
       "      <td>-2.2</td>\n",
       "      <td>0.0</td>\n",
       "      <td>0</td>\n",
       "      <td>0.4</td>\n",
       "      <td>2.6</td>\n",
       "      <td>34.6</td>\n",
       "      <td>61.6</td>\n",
       "      <td>1</td>\n",
       "    </tr>\n",
       "    <tr>\n",
       "      <th>4</th>\n",
       "      <td>75</td>\n",
       "      <td>0</td>\n",
       "      <td>190</td>\n",
       "      <td>80</td>\n",
       "      <td>88</td>\n",
       "      <td>181</td>\n",
       "      <td>360</td>\n",
       "      <td>177</td>\n",
       "      <td>103</td>\n",
       "      <td>-16</td>\n",
       "      <td>...</td>\n",
       "      <td>0.0</td>\n",
       "      <td>13.1</td>\n",
       "      <td>-3.6</td>\n",
       "      <td>0.0</td>\n",
       "      <td>0</td>\n",
       "      <td>-0.1</td>\n",
       "      <td>3.9</td>\n",
       "      <td>25.4</td>\n",
       "      <td>62.8</td>\n",
       "      <td>7</td>\n",
       "    </tr>\n",
       "  </tbody>\n",
       "</table>\n",
       "<p>5 rows × 280 columns</p>\n",
       "</div>"
      ],
      "text/plain": [
       "   col1  col2  col3  col4  col5  col6  col7  col8  col9  col10   ...    \\\n",
       "0    75     0   190    80    91   193   371   174   121    -16   ...     \n",
       "1    56     1   165    64    81   174   401   149    39     25   ...     \n",
       "2    54     0   172    95   138   163   386   185   102     96   ...     \n",
       "3    55     0   175    94   100   202   380   179   143     28   ...     \n",
       "4    75     0   190    80    88   181   360   177   103    -16   ...     \n",
       "\n",
       "   col271  col272  col273  col274  col275  col276  col277  col278  col279  \\\n",
       "0     0.0     9.0    -0.9     0.0       0     0.9     2.9    23.3    49.4   \n",
       "1     0.0     8.5     0.0     0.0       0     0.2     2.1    20.4    38.8   \n",
       "2     0.0     9.5    -2.4     0.0       0     0.3     3.4    12.3    49.0   \n",
       "3     0.0    12.2    -2.2     0.0       0     0.4     2.6    34.6    61.6   \n",
       "4     0.0    13.1    -3.6     0.0       0    -0.1     3.9    25.4    62.8   \n",
       "\n",
       "   col280  \n",
       "0       8  \n",
       "1       6  \n",
       "2      10  \n",
       "3       1  \n",
       "4       7  \n",
       "\n",
       "[5 rows x 280 columns]"
      ]
     },
     "execution_count": 4,
     "metadata": {},
     "output_type": "execute_result"
    }
   ],
   "source": [
    "data.columns = new_col\n",
    "data.head()"
   ]
  },
  {
   "cell_type": "code",
   "execution_count": 5,
   "metadata": {},
   "outputs": [
    {
     "data": {
      "text/html": [
       "<div>\n",
       "<style>\n",
       "    .dataframe thead tr:only-child th {\n",
       "        text-align: right;\n",
       "    }\n",
       "\n",
       "    .dataframe thead th {\n",
       "        text-align: left;\n",
       "    }\n",
       "\n",
       "    .dataframe tbody tr th {\n",
       "        vertical-align: top;\n",
       "    }\n",
       "</style>\n",
       "<table border=\"1\" class=\"dataframe\">\n",
       "  <thead>\n",
       "    <tr style=\"text-align: right;\">\n",
       "      <th></th>\n",
       "      <th>col1</th>\n",
       "      <th>col2</th>\n",
       "      <th>col3</th>\n",
       "      <th>col4</th>\n",
       "      <th>col5</th>\n",
       "      <th>col6</th>\n",
       "      <th>col7</th>\n",
       "      <th>col8</th>\n",
       "      <th>col9</th>\n",
       "      <th>col10</th>\n",
       "      <th>...</th>\n",
       "      <th>col271</th>\n",
       "      <th>col272</th>\n",
       "      <th>col273</th>\n",
       "      <th>col274</th>\n",
       "      <th>col275</th>\n",
       "      <th>col276</th>\n",
       "      <th>col277</th>\n",
       "      <th>col278</th>\n",
       "      <th>col279</th>\n",
       "      <th>col280</th>\n",
       "    </tr>\n",
       "  </thead>\n",
       "  <tbody>\n",
       "    <tr>\n",
       "      <th>count</th>\n",
       "      <td>452.000000</td>\n",
       "      <td>452.000000</td>\n",
       "      <td>452.000000</td>\n",
       "      <td>452.000000</td>\n",
       "      <td>452.000000</td>\n",
       "      <td>452.000000</td>\n",
       "      <td>452.000000</td>\n",
       "      <td>452.000000</td>\n",
       "      <td>452.000000</td>\n",
       "      <td>452.000000</td>\n",
       "      <td>...</td>\n",
       "      <td>452.000000</td>\n",
       "      <td>452.000000</td>\n",
       "      <td>452.000000</td>\n",
       "      <td>452.000000</td>\n",
       "      <td>452.0</td>\n",
       "      <td>452.000000</td>\n",
       "      <td>452.000000</td>\n",
       "      <td>452.000000</td>\n",
       "      <td>452.000000</td>\n",
       "      <td>452.000000</td>\n",
       "    </tr>\n",
       "    <tr>\n",
       "      <th>mean</th>\n",
       "      <td>46.471239</td>\n",
       "      <td>0.550885</td>\n",
       "      <td>166.188053</td>\n",
       "      <td>68.170354</td>\n",
       "      <td>88.920354</td>\n",
       "      <td>155.152655</td>\n",
       "      <td>367.207965</td>\n",
       "      <td>169.949115</td>\n",
       "      <td>90.004425</td>\n",
       "      <td>33.676991</td>\n",
       "      <td>...</td>\n",
       "      <td>-0.278982</td>\n",
       "      <td>9.048009</td>\n",
       "      <td>-1.457301</td>\n",
       "      <td>0.003982</td>\n",
       "      <td>0.0</td>\n",
       "      <td>0.514823</td>\n",
       "      <td>1.222345</td>\n",
       "      <td>19.326106</td>\n",
       "      <td>29.473230</td>\n",
       "      <td>3.880531</td>\n",
       "    </tr>\n",
       "    <tr>\n",
       "      <th>std</th>\n",
       "      <td>16.466631</td>\n",
       "      <td>0.497955</td>\n",
       "      <td>37.170340</td>\n",
       "      <td>16.590803</td>\n",
       "      <td>15.364394</td>\n",
       "      <td>44.842283</td>\n",
       "      <td>33.385421</td>\n",
       "      <td>35.633072</td>\n",
       "      <td>25.826643</td>\n",
       "      <td>45.431434</td>\n",
       "      <td>...</td>\n",
       "      <td>0.548876</td>\n",
       "      <td>3.472862</td>\n",
       "      <td>2.002430</td>\n",
       "      <td>0.050118</td>\n",
       "      <td>0.0</td>\n",
       "      <td>0.347531</td>\n",
       "      <td>1.426052</td>\n",
       "      <td>13.503922</td>\n",
       "      <td>18.493927</td>\n",
       "      <td>4.407097</td>\n",
       "    </tr>\n",
       "    <tr>\n",
       "      <th>min</th>\n",
       "      <td>0.000000</td>\n",
       "      <td>0.000000</td>\n",
       "      <td>105.000000</td>\n",
       "      <td>6.000000</td>\n",
       "      <td>55.000000</td>\n",
       "      <td>0.000000</td>\n",
       "      <td>232.000000</td>\n",
       "      <td>108.000000</td>\n",
       "      <td>0.000000</td>\n",
       "      <td>-172.000000</td>\n",
       "      <td>...</td>\n",
       "      <td>-4.100000</td>\n",
       "      <td>0.000000</td>\n",
       "      <td>-28.600000</td>\n",
       "      <td>0.000000</td>\n",
       "      <td>0.0</td>\n",
       "      <td>-0.800000</td>\n",
       "      <td>-6.000000</td>\n",
       "      <td>-44.200000</td>\n",
       "      <td>-38.600000</td>\n",
       "      <td>1.000000</td>\n",
       "    </tr>\n",
       "    <tr>\n",
       "      <th>25%</th>\n",
       "      <td>36.000000</td>\n",
       "      <td>0.000000</td>\n",
       "      <td>160.000000</td>\n",
       "      <td>59.000000</td>\n",
       "      <td>80.000000</td>\n",
       "      <td>142.000000</td>\n",
       "      <td>350.000000</td>\n",
       "      <td>148.000000</td>\n",
       "      <td>79.000000</td>\n",
       "      <td>3.750000</td>\n",
       "      <td>...</td>\n",
       "      <td>-0.425000</td>\n",
       "      <td>6.600000</td>\n",
       "      <td>-2.100000</td>\n",
       "      <td>0.000000</td>\n",
       "      <td>0.0</td>\n",
       "      <td>0.400000</td>\n",
       "      <td>0.500000</td>\n",
       "      <td>11.450000</td>\n",
       "      <td>17.550000</td>\n",
       "      <td>1.000000</td>\n",
       "    </tr>\n",
       "    <tr>\n",
       "      <th>50%</th>\n",
       "      <td>47.000000</td>\n",
       "      <td>1.000000</td>\n",
       "      <td>164.000000</td>\n",
       "      <td>68.000000</td>\n",
       "      <td>86.000000</td>\n",
       "      <td>157.000000</td>\n",
       "      <td>367.000000</td>\n",
       "      <td>162.000000</td>\n",
       "      <td>91.000000</td>\n",
       "      <td>40.000000</td>\n",
       "      <td>...</td>\n",
       "      <td>0.000000</td>\n",
       "      <td>8.800000</td>\n",
       "      <td>-1.100000</td>\n",
       "      <td>0.000000</td>\n",
       "      <td>0.0</td>\n",
       "      <td>0.500000</td>\n",
       "      <td>1.350000</td>\n",
       "      <td>18.100000</td>\n",
       "      <td>27.900000</td>\n",
       "      <td>1.000000</td>\n",
       "    </tr>\n",
       "    <tr>\n",
       "      <th>75%</th>\n",
       "      <td>58.000000</td>\n",
       "      <td>1.000000</td>\n",
       "      <td>170.000000</td>\n",
       "      <td>79.000000</td>\n",
       "      <td>94.000000</td>\n",
       "      <td>175.000000</td>\n",
       "      <td>384.000000</td>\n",
       "      <td>179.000000</td>\n",
       "      <td>102.000000</td>\n",
       "      <td>66.000000</td>\n",
       "      <td>...</td>\n",
       "      <td>0.000000</td>\n",
       "      <td>11.200000</td>\n",
       "      <td>0.000000</td>\n",
       "      <td>0.000000</td>\n",
       "      <td>0.0</td>\n",
       "      <td>0.700000</td>\n",
       "      <td>2.100000</td>\n",
       "      <td>25.825000</td>\n",
       "      <td>41.125000</td>\n",
       "      <td>6.000000</td>\n",
       "    </tr>\n",
       "    <tr>\n",
       "      <th>max</th>\n",
       "      <td>83.000000</td>\n",
       "      <td>1.000000</td>\n",
       "      <td>780.000000</td>\n",
       "      <td>176.000000</td>\n",
       "      <td>188.000000</td>\n",
       "      <td>524.000000</td>\n",
       "      <td>509.000000</td>\n",
       "      <td>381.000000</td>\n",
       "      <td>205.000000</td>\n",
       "      <td>169.000000</td>\n",
       "      <td>...</td>\n",
       "      <td>0.000000</td>\n",
       "      <td>23.600000</td>\n",
       "      <td>0.000000</td>\n",
       "      <td>0.800000</td>\n",
       "      <td>0.0</td>\n",
       "      <td>2.400000</td>\n",
       "      <td>6.000000</td>\n",
       "      <td>88.800000</td>\n",
       "      <td>115.900000</td>\n",
       "      <td>16.000000</td>\n",
       "    </tr>\n",
       "  </tbody>\n",
       "</table>\n",
       "<p>8 rows × 280 columns</p>\n",
       "</div>"
      ],
      "text/plain": [
       "             col1        col2        col3        col4        col5        col6  \\\n",
       "count  452.000000  452.000000  452.000000  452.000000  452.000000  452.000000   \n",
       "mean    46.471239    0.550885  166.188053   68.170354   88.920354  155.152655   \n",
       "std     16.466631    0.497955   37.170340   16.590803   15.364394   44.842283   \n",
       "min      0.000000    0.000000  105.000000    6.000000   55.000000    0.000000   \n",
       "25%     36.000000    0.000000  160.000000   59.000000   80.000000  142.000000   \n",
       "50%     47.000000    1.000000  164.000000   68.000000   86.000000  157.000000   \n",
       "75%     58.000000    1.000000  170.000000   79.000000   94.000000  175.000000   \n",
       "max     83.000000    1.000000  780.000000  176.000000  188.000000  524.000000   \n",
       "\n",
       "             col7        col8        col9       col10     ...          col271  \\\n",
       "count  452.000000  452.000000  452.000000  452.000000     ...      452.000000   \n",
       "mean   367.207965  169.949115   90.004425   33.676991     ...       -0.278982   \n",
       "std     33.385421   35.633072   25.826643   45.431434     ...        0.548876   \n",
       "min    232.000000  108.000000    0.000000 -172.000000     ...       -4.100000   \n",
       "25%    350.000000  148.000000   79.000000    3.750000     ...       -0.425000   \n",
       "50%    367.000000  162.000000   91.000000   40.000000     ...        0.000000   \n",
       "75%    384.000000  179.000000  102.000000   66.000000     ...        0.000000   \n",
       "max    509.000000  381.000000  205.000000  169.000000     ...        0.000000   \n",
       "\n",
       "           col272      col273      col274  col275      col276      col277  \\\n",
       "count  452.000000  452.000000  452.000000   452.0  452.000000  452.000000   \n",
       "mean     9.048009   -1.457301    0.003982     0.0    0.514823    1.222345   \n",
       "std      3.472862    2.002430    0.050118     0.0    0.347531    1.426052   \n",
       "min      0.000000  -28.600000    0.000000     0.0   -0.800000   -6.000000   \n",
       "25%      6.600000   -2.100000    0.000000     0.0    0.400000    0.500000   \n",
       "50%      8.800000   -1.100000    0.000000     0.0    0.500000    1.350000   \n",
       "75%     11.200000    0.000000    0.000000     0.0    0.700000    2.100000   \n",
       "max     23.600000    0.000000    0.800000     0.0    2.400000    6.000000   \n",
       "\n",
       "           col278      col279      col280  \n",
       "count  452.000000  452.000000  452.000000  \n",
       "mean    19.326106   29.473230    3.880531  \n",
       "std     13.503922   18.493927    4.407097  \n",
       "min    -44.200000  -38.600000    1.000000  \n",
       "25%     11.450000   17.550000    1.000000  \n",
       "50%     18.100000   27.900000    1.000000  \n",
       "75%     25.825000   41.125000    6.000000  \n",
       "max     88.800000  115.900000   16.000000  \n",
       "\n",
       "[8 rows x 280 columns]"
      ]
     },
     "execution_count": 5,
     "metadata": {},
     "output_type": "execute_result"
    }
   ],
   "source": [
    "data.describe()"
   ]
  },
  {
   "cell_type": "code",
   "execution_count": 5,
   "metadata": {},
   "outputs": [
    {
     "name": "stdout",
     "output_type": "stream",
     "text": [
      "col1       0.000000\n",
      "col2       0.000000\n",
      "col3       0.000000\n",
      "col4       0.000000\n",
      "col5       0.000000\n",
      "col6       0.000000\n",
      "col7       0.000000\n",
      "col8       0.000000\n",
      "col9       0.000000\n",
      "col10      0.000000\n",
      "col11      1.769912\n",
      "col12      4.867257\n",
      "col13      0.221239\n",
      "col14     83.185841\n",
      "col15      0.221239\n",
      "col16      0.000000\n",
      "col17      0.000000\n",
      "col18      0.000000\n",
      "col19      0.000000\n",
      "col20      0.000000\n",
      "col21      0.000000\n",
      "col22      0.000000\n",
      "col23      0.000000\n",
      "col24      0.000000\n",
      "col25      0.000000\n",
      "col26      0.000000\n",
      "col27      0.000000\n",
      "col28      0.000000\n",
      "col29      0.000000\n",
      "col30      0.000000\n",
      "            ...    \n",
      "col251     0.000000\n",
      "col252     0.000000\n",
      "col253     0.000000\n",
      "col254     0.000000\n",
      "col255     0.000000\n",
      "col256     0.000000\n",
      "col257     0.000000\n",
      "col258     0.000000\n",
      "col259     0.000000\n",
      "col260     0.000000\n",
      "col261     0.000000\n",
      "col262     0.000000\n",
      "col263     0.000000\n",
      "col264     0.000000\n",
      "col265     0.000000\n",
      "col266     0.000000\n",
      "col267     0.000000\n",
      "col268     0.000000\n",
      "col269     0.000000\n",
      "col270     0.000000\n",
      "col271     0.000000\n",
      "col272     0.000000\n",
      "col273     0.000000\n",
      "col274     0.000000\n",
      "col275     0.000000\n",
      "col276     0.000000\n",
      "col277     0.000000\n",
      "col278     0.000000\n",
      "col279     0.000000\n",
      "col280     0.000000\n",
      "Length: 280, dtype: float64\n"
     ]
    }
   ],
   "source": [
    "percentage_missing = (data.isnull().sum()*100)/(len(data))\n",
    "print(percentage_missing)"
   ]
  },
  {
   "cell_type": "code",
   "execution_count": 6,
   "metadata": {},
   "outputs": [
    {
     "data": {
      "text/plain": [
       "col1      0\n",
       "col2      0\n",
       "col3      0\n",
       "col4      0\n",
       "col5      0\n",
       "col6      0\n",
       "col7      0\n",
       "col8      0\n",
       "col9      0\n",
       "col10     0\n",
       "col11     0\n",
       "col12     0\n",
       "col13     0\n",
       "col15     0\n",
       "col16     0\n",
       "col17     0\n",
       "col18     0\n",
       "col19     0\n",
       "col20     0\n",
       "col21     0\n",
       "col22     0\n",
       "col23     0\n",
       "col24     0\n",
       "col25     0\n",
       "col26     0\n",
       "col27     0\n",
       "col28     0\n",
       "col29     0\n",
       "col30     0\n",
       "col31     0\n",
       "         ..\n",
       "col251    0\n",
       "col252    0\n",
       "col253    0\n",
       "col254    0\n",
       "col255    0\n",
       "col256    0\n",
       "col257    0\n",
       "col258    0\n",
       "col259    0\n",
       "col260    0\n",
       "col261    0\n",
       "col262    0\n",
       "col263    0\n",
       "col264    0\n",
       "col265    0\n",
       "col266    0\n",
       "col267    0\n",
       "col268    0\n",
       "col269    0\n",
       "col270    0\n",
       "col271    0\n",
       "col272    0\n",
       "col273    0\n",
       "col274    0\n",
       "col275    0\n",
       "col276    0\n",
       "col277    0\n",
       "col278    0\n",
       "col279    0\n",
       "col280    0\n",
       "Length: 279, dtype: int64"
      ]
     },
     "execution_count": 6,
     "metadata": {},
     "output_type": "execute_result"
    }
   ],
   "source": [
    "data = data.drop('col14', axis =1)\n",
    "data = data.fillna(method = 'ffill')\n",
    "data.isnull().sum()"
   ]
  },
  {
   "cell_type": "code",
   "execution_count": 7,
   "metadata": {
    "collapsed": true
   },
   "outputs": [],
   "source": [
    "#Defining X and Y variables\n",
    "x = data.drop([\"col280\"], axis = 1)\n",
    "y = data[\"col280\"]"
   ]
  },
  {
   "cell_type": "code",
   "execution_count": 8,
   "metadata": {
    "collapsed": true
   },
   "outputs": [],
   "source": [
    "# Randomising data\n",
    "from sklearn.model_selection import train_test_split\n",
    "x_train, x_test, y_train, y_test = train_test_split(x, y, test_size = 0.1, random_state = 10)"
   ]
  },
  {
   "cell_type": "code",
   "execution_count": 9,
   "metadata": {
    "collapsed": true
   },
   "outputs": [],
   "source": [
    "from sklearn.preprocessing import MinMaxScaler\n",
    "mm_x = MinMaxScaler()\n",
    "x_train = mm_x.fit_transform(x_train)\n",
    "x_test = mm_x.fit_transform(x_test)"
   ]
  },
  {
   "cell_type": "markdown",
   "metadata": {},
   "source": [
    "#### Importing Libraries for Score and GridSearch"
   ]
  },
  {
   "cell_type": "code",
   "execution_count": 10,
   "metadata": {
    "collapsed": true
   },
   "outputs": [],
   "source": [
    "from sklearn.model_selection import cross_val_score\n",
    "from sklearn.model_selection import GridSearchCV"
   ]
  },
  {
   "cell_type": "markdown",
   "metadata": {},
   "source": [
    "#### KNN CLassifier"
   ]
  },
  {
   "cell_type": "code",
   "execution_count": 11,
   "metadata": {},
   "outputs": [
    {
     "name": "stdout",
     "output_type": "stream",
     "text": [
      "Best Parameters : {'n_neighbors': 3}\n",
      "Best cross_val score : 0.5738916256157636\n"
     ]
    }
   ],
   "source": [
    "from sklearn.neighbors import KNeighborsClassifier\n",
    "knn = KNeighborsClassifier()\n",
    "param_grid = {'n_neighbors':[1,3,5,10,15,20,25]}\n",
    "grid_search1= GridSearchCV(knn,param_grid, cv=2, scoring = 'recall_weighted')\n",
    "grid_search1.fit(x_train, y_train)\n",
    "\n",
    "print(\"Best Parameters : {}\".format(grid_search1.best_params_))\n",
    "print(\"Best cross_val score : {}\".format(grid_search1.best_score_))\n"
   ]
  },
  {
   "cell_type": "code",
   "execution_count": 22,
   "metadata": {},
   "outputs": [
    {
     "name": "stdout",
     "output_type": "stream",
     "text": [
      "Recall score (training): 0.677\n",
      "Recall score (test): 0.674\n"
     ]
    }
   ],
   "source": [
    "knnclass = KNeighborsClassifier(n_neighbors = 3)\n",
    "knnclass.fit(x_train,y_train)\n",
    "print('Recall score (training): {:.3f}'\n",
    "     .format(knnclass.score(x_train, y_train)))\n",
    "print('Recall score (test): {:.3f}'\n",
    "     .format(knnclass.score(x_test, y_test)))"
   ]
  },
  {
   "cell_type": "markdown",
   "metadata": {},
   "source": [
    "#### Logistic Regression"
   ]
  },
  {
   "cell_type": "code",
   "execution_count": 12,
   "metadata": {},
   "outputs": [
    {
     "name": "stdout",
     "output_type": "stream",
     "text": [
      "Best Parameters : {'C': 0.5, 'max_iter': 100}\n",
      "Best cross_val score : 0.6354679802955665\n"
     ]
    }
   ],
   "source": [
    "from sklearn.linear_model import LogisticRegression\n",
    "log = LogisticRegression()\n",
    "param_grid = {'C':[0.05,0.1,0.15,0.20,0.25,0.5],\n",
    "              'max_iter':[100,1000,10000]}\n",
    "grid_search2= GridSearchCV(log,param_grid, cv=2, scoring = 'recall_weighted')\n",
    "grid_search2.fit(x_train, y_train)\n",
    "\n",
    "print(\"Best Parameters : {}\".format(grid_search2.best_params_))\n",
    "print(\"Best cross_val score : {}\".format(grid_search2.best_score_)) "
   ]
  },
  {
   "cell_type": "code",
   "execution_count": 24,
   "metadata": {},
   "outputs": [
    {
     "name": "stdout",
     "output_type": "stream",
     "text": [
      "Recall score (training): 0.768\n",
      "Recall score (test): 0.674\n"
     ]
    }
   ],
   "source": [
    "logreg = LogisticRegression(C=0.5, max_iter = 100)\n",
    "logreg.fit(x_train,y_train)\n",
    "print('Recall score (training): {:.3f}'\n",
    "     .format(logreg.score(x_train, y_train)))\n",
    "print('Recall score (test): {:.3f}'\n",
    "     .format(logreg.score(x_test, y_test)))"
   ]
  },
  {
   "cell_type": "markdown",
   "metadata": {},
   "source": [
    "#### Linear Support Vector Machine"
   ]
  },
  {
   "cell_type": "code",
   "execution_count": 25,
   "metadata": {},
   "outputs": [
    {
     "name": "stdout",
     "output_type": "stream",
     "text": [
      "Best Parameters : {'C': 0.5, 'gamma': 0.001}\n",
      "Best cross_val score : 0.6995073891625616\n"
     ]
    }
   ],
   "source": [
    "from sklearn.svm import SVC\n",
    "svc = SVC(kernel = 'linear')\n",
    "param_grid = {'C':[0.001, 0.005, 0.01, 0.05, 0.1, 0.5, 1, 10, 50, 100],\n",
    "              'gamma' : [0.001, 0.005, 0.01, 0.05, 0.1, 0.5, 1, 10, 50, 100]}\n",
    "grid_search3= GridSearchCV(svc,param_grid, cv=2, scoring = 'recall_weighted')\n",
    "grid_search3.fit(x_train, y_train)\n",
    "\n",
    "print(\"Best Parameters : {}\".format(grid_search3.best_params_))\n",
    "print(\"Best cross_val score : {}\".format(grid_search3.best_score_)) "
   ]
  },
  {
   "cell_type": "code",
   "execution_count": 26,
   "metadata": {},
   "outputs": [
    {
     "name": "stdout",
     "output_type": "stream",
     "text": [
      "Recall score (training): 0.847\n",
      "Recall score (test): 0.565\n"
     ]
    }
   ],
   "source": [
    "svclin = SVC(kernel = 'linear', C = 0.5, gamma = 0.001)\n",
    "svclin.fit(x_train,y_train)\n",
    "print('Recall score (training): {:.3f}'\n",
    "     .format(svclin.score(x_train, y_train)))\n",
    "print('Recall score (test): {:.3f}'\n",
    "     .format(svclin.score(x_test, y_test)))"
   ]
  },
  {
   "cell_type": "markdown",
   "metadata": {},
   "source": [
    "#### Kerenilzed Support Vector Machine"
   ]
  },
  {
   "cell_type": "code",
   "execution_count": 27,
   "metadata": {},
   "outputs": [
    {
     "name": "stdout",
     "output_type": "stream",
     "text": [
      "Best Parameters : {'C': 50, 'gamma': 0.005}\n",
      "Best cross_val score : 0.7019704433497537\n"
     ]
    }
   ],
   "source": [
    "from sklearn.svm import SVC\n",
    "svc2 = SVC(kernel = 'rbf')\n",
    "param_grid = {'C':[0.001, 0.005, 0.01, 0.05, 0.1, 0.5, 1, 10, 50, 100],\n",
    "              'gamma' : [0.001, 0.005, 0.01, 0.05, 0.1, 0.5, 1, 10, 50, 100]}\n",
    "grid_search4= GridSearchCV(svc2,param_grid, cv=2, scoring = 'recall_weighted')\n",
    "grid_search4.fit(x_train, y_train)\n",
    "\n",
    "print(\"Best Parameters : {}\".format(grid_search4.best_params_))\n",
    "print(\"Best cross_val score : {}\".format(grid_search4.best_score_)) "
   ]
  },
  {
   "cell_type": "code",
   "execution_count": 28,
   "metadata": {},
   "outputs": [
    {
     "name": "stdout",
     "output_type": "stream",
     "text": [
      "Recall score (training): 0.845\n",
      "Recall score (test): 0.565\n"
     ]
    }
   ],
   "source": [
    "svcrbf = SVC(kernel = 'rbf', C = 50, gamma = 0.005)\n",
    "svcrbf.fit(x_train,y_train)\n",
    "print('Recall score (training): {:.3f}'\n",
    "     .format(svcrbf.score(x_train, y_train)))\n",
    "print('Recall score (test): {:.3f}'\n",
    "     .format(svcrbf.score(x_test, y_test)))"
   ]
  },
  {
   "cell_type": "markdown",
   "metadata": {},
   "source": [
    "#### Decision Trees"
   ]
  },
  {
   "cell_type": "code",
   "execution_count": 29,
   "metadata": {},
   "outputs": [
    {
     "name": "stdout",
     "output_type": "stream",
     "text": [
      "Best Parameters : {'max_depth': 6, 'max_features': 6}\n",
      "Best cross_val score : 0.6009852216748769\n"
     ]
    }
   ],
   "source": [
    "from sklearn.tree import DecisionTreeClassifier\n",
    "dec = DecisionTreeClassifier(random_state=100)\n",
    "param_grid = {'max_depth':[1,2,3,4,5,6,7,8,9,10],\n",
    "              'max_features':[1,2,3,4,5,6,7,8,9,10]}\n",
    "grid_search5= GridSearchCV(dec,param_grid, cv=2, scoring = 'recall_weighted')\n",
    "grid_search5.fit(x_train, y_train)\n",
    "\n",
    "print(\"Best Parameters : {}\".format(grid_search5.best_params_))\n",
    "print(\"Best cross_val score : {}\".format(grid_search5.best_score_)) "
   ]
  },
  {
   "cell_type": "code",
   "execution_count": 30,
   "metadata": {},
   "outputs": [
    {
     "name": "stdout",
     "output_type": "stream",
     "text": [
      "Recall score (training): 0.685\n",
      "Recall score (test): 0.261\n"
     ]
    }
   ],
   "source": [
    "dectree = DecisionTreeClassifier(random_state=100, max_depth=6,max_features=6)\n",
    "dectree.fit(x_train,y_train)\n",
    "print('Recall score (training): {:.3f}'\n",
    "     .format(dectree.score(x_train, y_train)))\n",
    "print('Recall score (test): {:.3f}'\n",
    "     .format(dectree.score(x_test, y_test)))\n"
   ]
  },
  {
   "cell_type": "markdown",
   "metadata": {},
   "source": [
    "#### Random Forest"
   ]
  },
  {
   "cell_type": "code",
   "execution_count": 31,
   "metadata": {},
   "outputs": [
    {
     "name": "stdout",
     "output_type": "stream",
     "text": [
      "Best Parameters : {'max_depth': 8, 'max_features': 9}\n",
      "Best cross_val score : 0.6650246305418719\n"
     ]
    }
   ],
   "source": [
    "from sklearn.ensemble import RandomForestClassifier\n",
    "ranf = RandomForestClassifier(random_state=100)\n",
    "param_grid = {'max_depth':[1,2,3,4,5,6,7,8,9,10,15,20],\n",
    "              'max_features':[1,2,3,4,5,6,7,8,9,10]}\n",
    "grid_search6= GridSearchCV(ranf,param_grid, cv=2, scoring = 'recall_weighted')\n",
    "grid_search6.fit(x_train, y_train)\n",
    "\n",
    "print(\"Best Parameters : {}\".format(grid_search6.best_params_))\n",
    "print(\"Best cross_val score : {}\".format(grid_search6.best_score_))"
   ]
  },
  {
   "cell_type": "code",
   "execution_count": 32,
   "metadata": {},
   "outputs": [
    {
     "name": "stdout",
     "output_type": "stream",
     "text": [
      "Recall score (training): 0.867\n",
      "Recall score (test): 0.478\n"
     ]
    }
   ],
   "source": [
    "ranfor = RandomForestClassifier(random_state=100, max_depth=8,max_features=9)\n",
    "ranfor.fit(x_train,y_train)\n",
    "print('Recall score (training): {:.3f}'\n",
    "     .format(ranfor.score(x_train, y_train)))\n",
    "print('Recall score (test): {:.3f}'\n",
    "     .format(ranfor.score(x_test, y_test)))"
   ]
  },
  {
   "cell_type": "markdown",
   "metadata": {},
   "source": [
    "#### Gradient Boost Classifier"
   ]
  },
  {
   "cell_type": "code",
   "execution_count": 49,
   "metadata": {},
   "outputs": [
    {
     "name": "stdout",
     "output_type": "stream",
     "text": [
      "Best Parameters : {'learning_rate': 0.01, 'max_depth': 1}\n",
      "Best cross_val score : 0.7093596059113301\n"
     ]
    }
   ],
   "source": [
    "from sklearn.ensemble import GradientBoostingClassifier\n",
    "\n",
    "boost = GradientBoostingClassifier(random_state = 10)\n",
    "param_grid = {'max_depth':[1,2,3,4,5,6,7,8,9,10],\n",
    "              'learning_rate':[0.1, 0.05, 0.01, 0.005, 0.001, 0.0005, 0.0001]}\n",
    "grid_search_boost= GridSearchCV(boost,param_grid, cv=2, scoring = 'recall_weighted')\n",
    "grid_search_boost.fit(x_train, y_train)\n",
    "\n",
    "print(\"Best Parameters : {}\".format(grid_search_boost.best_params_))\n",
    "print(\"Best cross_val score : {}\".format(grid_search_boost.best_score_))"
   ]
  },
  {
   "cell_type": "code",
   "execution_count": 50,
   "metadata": {},
   "outputs": [
    {
     "name": "stdout",
     "output_type": "stream",
     "text": [
      "Recall score (training): 0.798\n",
      "Recall score (test): 0.522\n"
     ]
    }
   ],
   "source": [
    "boost1 = GradientBoostingClassifier(learning_rate = 0.01, max_depth=1)\n",
    "boost1.fit(x_train,y_train)\n",
    "print('Recall score (training): {:.3f}'\n",
    "     .format(boost1.score(x_train, y_train)))\n",
    "print('Recall score (test): {:.3f}'\n",
    "     .format(boost1.score(x_test, y_test)))"
   ]
  },
  {
   "cell_type": "markdown",
   "metadata": {},
   "source": [
    "#### The gradient boost classifier results in a slightly overfit training set"
   ]
  },
  {
   "cell_type": "markdown",
   "metadata": {},
   "source": [
    "#### AdaBoost GridSearch"
   ]
  },
  {
   "cell_type": "code",
   "execution_count": 19,
   "metadata": {},
   "outputs": [
    {
     "name": "stdout",
     "output_type": "stream",
     "text": [
      "Best Parameters : {'learning_rate': 0.05, 'n_estimators': 10}\n",
      "Best cross_val score : 0.6059113300492611\n"
     ]
    }
   ],
   "source": [
    "from sklearn.ensemble import AdaBoostClassifier\n",
    "\n",
    "adaboost = AdaBoostClassifier(random_state = 10)\n",
    "param_grid = {'n_estimators':[10,50,100,200,500,750,1000],\n",
    "              'learning_rate':[0.1, 0.05, 0.01, 0.005, 0.001, 0.0005, 0.0001]}\n",
    "grid_search_adaboost= GridSearchCV(adaboost,param_grid, cv=2, scoring = 'recall_weighted')\n",
    "grid_search_adaboost.fit(x_train, y_train)\n",
    "\n",
    "print(\"Best Parameters : {}\".format(grid_search_adaboost.best_params_))\n",
    "print(\"Best cross_val score : {}\".format(grid_search_adaboost.best_score_))"
   ]
  },
  {
   "cell_type": "markdown",
   "metadata": {},
   "source": [
    "#### AdaBoost for logistic regression"
   ]
  },
  {
   "cell_type": "code",
   "execution_count": 33,
   "metadata": {},
   "outputs": [
    {
     "name": "stdout",
     "output_type": "stream",
     "text": [
      "Recall score of adaboost classifier on training set: 0.54\n",
      "Recall score of adaboost classifier on test set: 0.57\n",
      "\n"
     ]
    }
   ],
   "source": [
    "ada_logreg = AdaBoostClassifier(logreg, learning_rate = 0.05, n_estimators = 10, algorithm = \"SAMME.R\", random_state = 10)\n",
    "ada_logreg.fit(x_train, y_train)\n",
    "\n",
    "print('Recall score of adaboost classifier on training set: {:.2f}'\n",
    "     .format(ada_logreg.score(x_train, y_train)))\n",
    "print('Recall score of adaboost classifier on test set: {:.2f}\\n'\n",
    "     .format(ada_logreg.score(x_test, y_test)))"
   ]
  },
  {
   "cell_type": "markdown",
   "metadata": {},
   "source": [
    "#### AdaBoost for Linear SVC"
   ]
  },
  {
   "cell_type": "code",
   "execution_count": 34,
   "metadata": {},
   "outputs": [
    {
     "name": "stdout",
     "output_type": "stream",
     "text": [
      "Recall score of adaboost classifier on training set: 0.54\n",
      "Recall score of adaboost classifier on test set: 0.57\n",
      "\n"
     ]
    }
   ],
   "source": [
    "ada_svclin = AdaBoostClassifier(svclin, learning_rate = 0.05, n_estimators = 10, algorithm = \"SAMME\", random_state = 10)\n",
    "ada_svclin.fit(x_train, y_train)\n",
    "\n",
    "print('Recall score of adaboost classifier on training set: {:.2f}'\n",
    "     .format(ada_svclin.score(x_train, y_train)))\n",
    "print('Recall score of adaboost classifier on test set: {:.2f}\\n'\n",
    "     .format(ada_svclin.score(x_test, y_test)))"
   ]
  },
  {
   "cell_type": "markdown",
   "metadata": {},
   "source": [
    "#### AdaBoost for Kernel SVC"
   ]
  },
  {
   "cell_type": "code",
   "execution_count": 36,
   "metadata": {},
   "outputs": [
    {
     "name": "stdout",
     "output_type": "stream",
     "text": [
      "Recall score of adaboost classifier on training set: 0.54\n",
      "Recall score of adaboost classifier on test set: 0.57\n",
      "\n"
     ]
    }
   ],
   "source": [
    "ada_svcrbf = AdaBoostClassifier(svcrbf, learning_rate = 0.05, n_estimators = 10, algorithm = \"SAMME\", random_state = 10)\n",
    "ada_svcrbf.fit(x_train, y_train)\n",
    "\n",
    "print('Recall score of adaboost classifier on training set: {:.2f}'\n",
    "     .format(ada_svcrbf.score(x_train, y_train)))\n",
    "print('Recall score of adaboost classifier on test set: {:.2f}\\n'\n",
    "     .format(ada_svcrbf.score(x_test, y_test)))"
   ]
  },
  {
   "cell_type": "markdown",
   "metadata": {},
   "source": [
    "##### The training and test scores for Logistic, Linear and Kernel SVM indicate very good accuracies on AdaBoost compared to their original models. However, there is not much difference in KNN models. Hence, AdaBoost can be implemented except for KNN. "
   ]
  },
  {
   "cell_type": "markdown",
   "metadata": {},
   "source": [
    "#### AdaBoost for decision tree"
   ]
  },
  {
   "cell_type": "code",
   "execution_count": 37,
   "metadata": {},
   "outputs": [
    {
     "name": "stdout",
     "output_type": "stream",
     "text": [
      "Recall score of adaboost classifier on training set: 0.98\n",
      "Recall score of adaboost classifier on test set: 0.50\n",
      "\n"
     ]
    }
   ],
   "source": [
    "ada_dectree = AdaBoostClassifier(dectree, learning_rate = 0.05, n_estimators = 10, algorithm = \"SAMME.R\", random_state = 10)\n",
    "ada_dectree.fit(x_train, y_train)\n",
    "\n",
    "print('Recall score of adaboost classifier on training set: {:.2f}'\n",
    "     .format(ada_dectree.score(x_train, y_train)))\n",
    "print('Recall score of adaboost classifier on test set: {:.2f}\\n'\n",
    "     .format(ada_dectree.score(x_test, y_test)))"
   ]
  },
  {
   "cell_type": "markdown",
   "metadata": {},
   "source": [
    "#### AdaBoost for Random Forest"
   ]
  },
  {
   "cell_type": "code",
   "execution_count": 38,
   "metadata": {
    "scrolled": true
   },
   "outputs": [
    {
     "name": "stdout",
     "output_type": "stream",
     "text": [
      "Recall score of adaboost classifier on training set: 0.89\n",
      "Recall score of adaboost classifier on test set: 0.65\n",
      "\n"
     ]
    }
   ],
   "source": [
    "ada_ranfor = AdaBoostClassifier(ranfor, learning_rate = 0.05, n_estimators = 10, algorithm = \"SAMME.R\", random_state = 10)\n",
    "ada_ranfor.fit(x_train, y_train)\n",
    "\n",
    "print('Recall score of adaboost classifier on training set: {:.2f}'\n",
    "     .format(ada_ranfor.score(x_train, y_train)))\n",
    "print('Recall score of adaboost classifier on test set: {:.2f}\\n'\n",
    "     .format(ada_ranfor.score(x_test, y_test)))"
   ]
  },
  {
   "cell_type": "markdown",
   "metadata": {},
   "source": [
    "##### The AdaBoost for decision tree did not give desired results as overfitting is not resolved. However, the accuracy of test score for random forest model has significantly increased."
   ]
  },
  {
   "cell_type": "markdown",
   "metadata": {},
   "source": [
    "#### Bagging GridSearch"
   ]
  },
  {
   "cell_type": "code",
   "execution_count": 17,
   "metadata": {},
   "outputs": [
    {
     "name": "stdout",
     "output_type": "stream",
     "text": [
      "Best Parameters : {'max_samples': 100, 'n_estimators': 100}\n",
      "Best cross_val score : 0.7068965517241379\n"
     ]
    }
   ],
   "source": [
    "from sklearn.ensemble import BaggingClassifier\n",
    "\n",
    "bagging = BaggingClassifier(random_state = 10)\n",
    "param_grid = {'max_samples':[10,50,100],\n",
    "               'n_estimators':[1,10,50,100,500]}\n",
    "grid_search_bagging = GridSearchCV(bagging, param_grid, cv=2, scoring = 'recall_weighted')\n",
    "grid_search_bagging.fit(x_train, y_train)\n",
    "\n",
    "print(\"Best Parameters : {}\".format(grid_search_bagging.best_params_))\n",
    "print(\"Best cross_val score : {}\".format(grid_search_bagging.best_score_))"
   ]
  },
  {
   "cell_type": "markdown",
   "metadata": {},
   "source": [
    "#### Bagging Classifier for KNN"
   ]
  },
  {
   "cell_type": "code",
   "execution_count": 39,
   "metadata": {},
   "outputs": [
    {
     "name": "stdout",
     "output_type": "stream",
     "text": [
      "Recall score of bagging classifier on training set: 0.58\n",
      "Recall Score of bagging classifier on test set: 0.65\n",
      "\n"
     ]
    }
   ],
   "source": [
    "bag_knnclass= BaggingClassifier(knnclass, max_samples = 100, n_estimators =100, random_state = 10)\n",
    "bag_knnclass.fit(x_train, y_train)\n",
    "\n",
    "print('Recall score of bagging classifier on training set: {:.2f}'\n",
    "     .format(bag_knnclass.score(x_train, y_train)))\n",
    "print('Recall Score of bagging classifier on test set: {:.2f}\\n'\n",
    "     .format(bag_knnclass.score(x_test, y_test)))"
   ]
  },
  {
   "cell_type": "markdown",
   "metadata": {},
   "source": [
    "#### Bagging Classifier for Logistic"
   ]
  },
  {
   "cell_type": "code",
   "execution_count": 40,
   "metadata": {},
   "outputs": [
    {
     "name": "stdout",
     "output_type": "stream",
     "text": [
      "Recall score of bagging classifier on training set: 0.60\n",
      "Recall Score of bagging classifier on test set: 0.63\n",
      "\n"
     ]
    }
   ],
   "source": [
    "bag_logreg= BaggingClassifier(logreg, max_samples = 100, n_estimators =100, random_state = 10)\n",
    "bag_logreg.fit(x_train, y_train)\n",
    "\n",
    "print('Recall score of bagging classifier on training set: {:.2f}'\n",
    "     .format(bag_logreg.score(x_train, y_train)))\n",
    "print('Recall Score of bagging classifier on test set: {:.2f}\\n'\n",
    "     .format(bag_logreg.score(x_test, y_test)))"
   ]
  },
  {
   "cell_type": "markdown",
   "metadata": {},
   "source": [
    "#### Bagging Classifier for Linear SVC"
   ]
  },
  {
   "cell_type": "code",
   "execution_count": 41,
   "metadata": {},
   "outputs": [
    {
     "name": "stdout",
     "output_type": "stream",
     "text": [
      "Recall score of bagging classifier on training set: 0.62\n",
      "Recall Score of bagging classifier on test set: 0.61\n",
      "\n"
     ]
    }
   ],
   "source": [
    "bag_svclin= BaggingClassifier(svclin, max_samples = 100, n_estimators =100, random_state = 10)\n",
    "bag_svclin.fit(x_train, y_train)\n",
    "\n",
    "print('Recall score of bagging classifier on training set: {:.2f}'\n",
    "     .format(bag_svclin.score(x_train, y_train)))\n",
    "print('Recall Score of bagging classifier on test set: {:.2f}\\n'\n",
    "     .format(bag_svclin.score(x_test, y_test)))"
   ]
  },
  {
   "cell_type": "markdown",
   "metadata": {},
   "source": [
    "#### Bagging Classifier for Kernel SVC"
   ]
  },
  {
   "cell_type": "code",
   "execution_count": 42,
   "metadata": {},
   "outputs": [
    {
     "name": "stdout",
     "output_type": "stream",
     "text": [
      "Recall score of bagging classifier on training set: 0.62\n",
      "Recall score of bagging classifier on test set: 0.61\n",
      "\n"
     ]
    }
   ],
   "source": [
    "bag_svcrbf= BaggingClassifier(svcrbf, max_samples = 100, n_estimators = 100, random_state = 10)\n",
    "bag_svcrbf.fit(x_train, y_train)\n",
    "\n",
    "print('Recall score of bagging classifier on training set: {:.2f}'\n",
    "     .format(bag_svcrbf.score(x_train, y_train)))\n",
    "print('Recall score of bagging classifier on test set: {:.2f}\\n'\n",
    "     .format(bag_svcrbf.score(x_test, y_test)))"
   ]
  },
  {
   "cell_type": "markdown",
   "metadata": {},
   "source": [
    "#### Bagging Classifier for decision tree"
   ]
  },
  {
   "cell_type": "code",
   "execution_count": 43,
   "metadata": {},
   "outputs": [
    {
     "name": "stdout",
     "output_type": "stream",
     "text": [
      "Recall score of bagging classifier on training set: 0.71\n",
      "Recall score of bagging classifier on test set: 0.65\n",
      "\n"
     ]
    }
   ],
   "source": [
    "bag_dectree= BaggingClassifier(dectree, max_samples = 100, n_estimators = 100, random_state = 10)\n",
    "bag_dectree.fit(x_train, y_train)\n",
    "\n",
    "print('Recall score of bagging classifier on training set: {:.2f}'\n",
    "     .format(bag_dectree.score(x_train, y_train)))\n",
    "print('Recall score of bagging classifier on test set: {:.2f}\\n'\n",
    "     .format(bag_dectree.score(x_test, y_test)))"
   ]
  },
  {
   "cell_type": "markdown",
   "metadata": {},
   "source": [
    "#### Bagging Classifier for random forest"
   ]
  },
  {
   "cell_type": "code",
   "execution_count": 44,
   "metadata": {},
   "outputs": [
    {
     "name": "stdout",
     "output_type": "stream",
     "text": [
      "Recall score of bagging classifier on training set: 0.68\n",
      "Recall score of bagging classifier on test set: 0.61\n",
      "\n"
     ]
    }
   ],
   "source": [
    "bag_ranfor= BaggingClassifier(ranfor, max_samples = 100, n_estimators = 100, random_state = 10)\n",
    "bag_ranfor.fit(x_train, y_train)\n",
    "\n",
    "print('Recall score of bagging classifier on training set: {:.2f}'\n",
    "     .format(bag_ranfor.score(x_train, y_train)))\n",
    "print('Recall score of bagging classifier on test set: {:.2f}\\n'\n",
    "     .format(bag_ranfor.score(x_test, y_test)))"
   ]
  },
  {
   "cell_type": "markdown",
   "metadata": {},
   "source": [
    "##### Bagging provides exact estimates for all models as training and test scores are very similar to each other. It has outperformed AdaBoost especially for the decision tree and random forest models. "
   ]
  },
  {
   "cell_type": "markdown",
   "metadata": {},
   "source": [
    "#### Applying PCA"
   ]
  },
  {
   "cell_type": "code",
   "execution_count": 45,
   "metadata": {},
   "outputs": [
    {
     "name": "stdout",
     "output_type": "stream",
     "text": [
      "87\n"
     ]
    }
   ],
   "source": [
    "from sklearn.decomposition import PCA\n",
    "pca = PCA(n_components = 0.95)\n",
    "x_train_red = pca.fit_transform(x_train)\n",
    "x_test_red = pca.transform(x_test)\n",
    "print(pca.n_components_)"
   ]
  },
  {
   "cell_type": "markdown",
   "metadata": {},
   "source": [
    "#### KNN - PCA"
   ]
  },
  {
   "cell_type": "code",
   "execution_count": 46,
   "metadata": {},
   "outputs": [
    {
     "name": "stdout",
     "output_type": "stream",
     "text": [
      "Best Parameters : {'n_neighbors': 3}\n",
      "Best cross_val score : 0.5812807881773399\n"
     ]
    }
   ],
   "source": [
    "from sklearn.neighbors import KNeighborsClassifier\n",
    "knn = KNeighborsClassifier()\n",
    "param_grid = {'n_neighbors':[1,3,5,10,15,20,25]}\n",
    "grid_search1= GridSearchCV(knn,param_grid, cv=2, scoring = 'recall_weighted')\n",
    "grid_search1.fit(x_train_red, y_train)\n",
    "\n",
    "print(\"Best Parameters : {}\".format(grid_search1.best_params_))\n",
    "print(\"Best cross_val score : {}\".format(grid_search1.best_score_))"
   ]
  },
  {
   "cell_type": "code",
   "execution_count": 47,
   "metadata": {},
   "outputs": [
    {
     "name": "stdout",
     "output_type": "stream",
     "text": [
      "Recall score (training): 0.685\n",
      "Recall score (test): 0.674\n"
     ]
    }
   ],
   "source": [
    "knnclass = KNeighborsClassifier(n_neighbors = 3)\n",
    "knnclass.fit(x_train_red,y_train)\n",
    "print('Recall score (training): {:.3f}'\n",
    "     .format(knnclass.score(x_train_red, y_train)))\n",
    "print('Recall score (test): {:.3f}'\n",
    "     .format(knnclass.score(x_test_red, y_test)))"
   ]
  },
  {
   "cell_type": "markdown",
   "metadata": {},
   "source": [
    "#### Logistic - PCA"
   ]
  },
  {
   "cell_type": "code",
   "execution_count": 48,
   "metadata": {},
   "outputs": [
    {
     "name": "stdout",
     "output_type": "stream",
     "text": [
      "Best Parameters : {'C': 0.5, 'max_iter': 100}\n",
      "Best cross_val score : 0.6674876847290641\n"
     ]
    }
   ],
   "source": [
    "from sklearn.linear_model import LogisticRegression\n",
    "log = LogisticRegression()\n",
    "param_grid = {'C':[0.05,0.1,0.15,0.20,0.25,0.5],\n",
    "              'max_iter':[100,1000,10000]}\n",
    "grid_search2= GridSearchCV(log,param_grid, cv=2, scoring = 'recall_weighted')\n",
    "grid_search2.fit(x_train_red, y_train)\n",
    "\n",
    "print(\"Best Parameters : {}\".format(grid_search2.best_params_))\n",
    "print(\"Best cross_val score : {}\".format(grid_search2.best_score_))"
   ]
  },
  {
   "cell_type": "code",
   "execution_count": 49,
   "metadata": {},
   "outputs": [
    {
     "name": "stdout",
     "output_type": "stream",
     "text": [
      "Recall score (training): 0.764\n",
      "Recall score (test): 0.630\n"
     ]
    }
   ],
   "source": [
    "logreg = LogisticRegression(C=0.5, max_iter = 100)\n",
    "logreg.fit(x_train_red,y_train)\n",
    "print('Recall score (training): {:.3f}'\n",
    "     .format(logreg.score(x_train_red, y_train)))\n",
    "print('Recall score (test): {:.3f}'\n",
    "     .format(logreg.score(x_test_red, y_test)))"
   ]
  },
  {
   "cell_type": "markdown",
   "metadata": {},
   "source": [
    "#### Linear SVC - PCA"
   ]
  },
  {
   "cell_type": "code",
   "execution_count": 50,
   "metadata": {},
   "outputs": [
    {
     "name": "stdout",
     "output_type": "stream",
     "text": [
      "Best Parameters : {'C': 0.5, 'gamma': 0.001}\n",
      "Best cross_val score : 0.6921182266009852\n"
     ]
    }
   ],
   "source": [
    "from sklearn.svm import SVC\n",
    "svc = SVC(kernel = 'linear')\n",
    "param_grid = {'C':[0.001, 0.005, 0.01, 0.05, 0.1, 0.5, 1, 10, 50, 100],\n",
    "              'gamma' : [0.001, 0.005, 0.01, 0.05, 0.1, 0.5, 1, 10, 50, 100]}\n",
    "grid_search3= GridSearchCV(svc,param_grid, cv=2, scoring = 'recall_weighted')\n",
    "grid_search3.fit(x_train_red, y_train)\n",
    "\n",
    "print(\"Best Parameters : {}\".format(grid_search3.best_params_))\n",
    "print(\"Best cross_val score : {}\".format(grid_search3.best_score_))"
   ]
  },
  {
   "cell_type": "code",
   "execution_count": 51,
   "metadata": {},
   "outputs": [
    {
     "name": "stdout",
     "output_type": "stream",
     "text": [
      "Recall score (training): 0.815\n",
      "Recall score (test): 0.565\n"
     ]
    }
   ],
   "source": [
    "svclin = SVC(kernel = 'linear', C = 0.5, gamma = 0.001)\n",
    "svclin.fit(x_train_red,y_train)\n",
    "print('Recall score (training): {:.3f}'\n",
    "     .format(svclin.score(x_train_red, y_train)))\n",
    "print('Recall score (test): {:.3f}'\n",
    "     .format(svclin.score(x_test_red, y_test)))"
   ]
  },
  {
   "cell_type": "markdown",
   "metadata": {},
   "source": [
    "#### Kernel SVC - PCA"
   ]
  },
  {
   "cell_type": "code",
   "execution_count": 52,
   "metadata": {},
   "outputs": [
    {
     "name": "stdout",
     "output_type": "stream",
     "text": [
      "Best Parameters : {'C': 10, 'gamma': 0.05}\n",
      "Best cross_val score : 0.6945812807881774\n"
     ]
    }
   ],
   "source": [
    "from sklearn.svm import SVC\n",
    "svc2 = SVC(kernel = 'rbf')\n",
    "param_grid = {'C':[0.001, 0.005, 0.01, 0.05, 0.1, 0.5, 1, 10, 50, 100],\n",
    "              'gamma' : [0.001, 0.005, 0.01, 0.05, 0.1, 0.5, 1, 10, 50, 100]}\n",
    "grid_search4= GridSearchCV(svc2,param_grid, cv=2, scoring = 'recall_weighted')\n",
    "grid_search4.fit(x_train_red, y_train)\n",
    "\n",
    "print(\"Best Parameters : {}\".format(grid_search4.best_params_))\n",
    "print(\"Best cross_val score : {}\".format(grid_search4.best_score_))"
   ]
  },
  {
   "cell_type": "code",
   "execution_count": 53,
   "metadata": {},
   "outputs": [
    {
     "name": "stdout",
     "output_type": "stream",
     "text": [
      "Recall score (training): 0.901\n",
      "Recall score (test): 0.478\n"
     ]
    }
   ],
   "source": [
    "svcrbf = SVC(kernel = 'rbf', C = 10, gamma = 0.05)\n",
    "svcrbf.fit(x_train_red,y_train)\n",
    "print('Recall score (training): {:.3f}'\n",
    "     .format(svcrbf.score(x_train_red, y_train)))\n",
    "print('Recall score (test): {:.3f}'\n",
    "     .format(svcrbf.score(x_test_red, y_test)))"
   ]
  },
  {
   "cell_type": "markdown",
   "metadata": {},
   "source": [
    "#### Decision Tree - PCA"
   ]
  },
  {
   "cell_type": "code",
   "execution_count": 54,
   "metadata": {},
   "outputs": [
    {
     "name": "stdout",
     "output_type": "stream",
     "text": [
      "Best Parameters : {'max_depth': 1, 'max_features': 5}\n",
      "Best cross_val score : 0.5689655172413792\n"
     ]
    }
   ],
   "source": [
    "from sklearn.tree import DecisionTreeClassifier\n",
    "dec = DecisionTreeClassifier(random_state=100)\n",
    "param_grid = {'max_depth':[1,2,3,4,5,6,7,8,9,10],\n",
    "              'max_features':[1,2,3,4,5,6,7,8,9,10]}\n",
    "grid_search5= GridSearchCV(dec,param_grid, cv=2, scoring = 'recall_weighted')\n",
    "grid_search5.fit(x_train_red, y_train)\n",
    "\n",
    "print(\"Best Parameters : {}\".format(grid_search5.best_params_))\n",
    "print(\"Best cross_val score : {}\".format(grid_search5.best_score_))"
   ]
  },
  {
   "cell_type": "code",
   "execution_count": 55,
   "metadata": {},
   "outputs": [
    {
     "name": "stdout",
     "output_type": "stream",
     "text": [
      "Recall score (training): 0.569\n",
      "Recall score (test): 0.565\n"
     ]
    }
   ],
   "source": [
    "dectree = DecisionTreeClassifier(random_state=100, max_depth=1,max_features=5)\n",
    "dectree.fit(x_train_red,y_train)\n",
    "print('Recall score (training): {:.3f}'\n",
    "     .format(dectree.score(x_train_red, y_train)))\n",
    "print('Recall score (test): {:.3f}'\n",
    "     .format(dectree.score(x_test_red, y_test)))"
   ]
  },
  {
   "cell_type": "markdown",
   "metadata": {},
   "source": [
    "#### Random Forest - PCA"
   ]
  },
  {
   "cell_type": "code",
   "execution_count": 56,
   "metadata": {},
   "outputs": [
    {
     "name": "stdout",
     "output_type": "stream",
     "text": [
      "Best Parameters : {'max_depth': 9, 'max_features': 8}\n",
      "Best cross_val score : 0.5714285714285714\n"
     ]
    }
   ],
   "source": [
    "from sklearn.ensemble import RandomForestClassifier\n",
    "ranf = RandomForestClassifier(random_state=100)\n",
    "param_grid = {'max_depth':[1,2,3,4,5,6,7,8,9,10,15,20],\n",
    "              'max_features':[1,2,3,4,5,6,7,8,9,10]}\n",
    "grid_search6= GridSearchCV(ranf,param_grid, cv=2, scoring = 'recall_weighted')\n",
    "grid_search6.fit(x_train_red, y_train)\n",
    "\n",
    "print(\"Best Parameters : {}\".format(grid_search6.best_params_))\n",
    "print(\"Best cross_val score : {}\".format(grid_search6.best_score_))"
   ]
  },
  {
   "cell_type": "code",
   "execution_count": 57,
   "metadata": {},
   "outputs": [
    {
     "name": "stdout",
     "output_type": "stream",
     "text": [
      "Recall score (training): 0.911\n",
      "Recall score (test): 0.478\n"
     ]
    }
   ],
   "source": [
    "ranfor = RandomForestClassifier(random_state=100, max_depth=9,max_features=8)\n",
    "ranfor.fit(x_train_red,y_train)\n",
    "print('Recall score (training): {:.3f}'\n",
    "     .format(ranfor.score(x_train_red, y_train)))\n",
    "print('Recall score (test): {:.3f}'\n",
    "     .format(ranfor.score(x_test_red, y_test)))"
   ]
  },
  {
   "cell_type": "markdown",
   "metadata": {},
   "source": [
    "##### Applying PCA did not have any impact on any other model except for Decision Tree. Taking that into account, we can say that the improvement in decision tree might be because of good parameters obtained from grid search"
   ]
  },
  {
   "cell_type": "markdown",
   "metadata": {
    "collapsed": true
   },
   "source": [
    "#### Conclusion"
   ]
  },
  {
   "cell_type": "markdown",
   "metadata": {},
   "source": [
    "- Boosting and Bagging seem to rectify the problem of overfit seen in almost all models except one where AdaBoost did not prove much effective on decision tree. The train and test accuracies have become more comparable.\n",
    "- Principal Component Analysis (PCA) has been used for dimensionality reduction. All the models that were previously run on the actual data are now run on the PCA components. There are no notable improvements in terms of the accuaries for almost all models and the problem of overfitting seems to still persist except in the case of decision tree.\n",
    "- We have used the scoring parameter as recall as it is a good measure of accuracy, especially in medical applications."
   ]
  },
  {
   "cell_type": "markdown",
   "metadata": {},
   "source": [
    "#### Effort Table"
   ]
  },
  {
   "cell_type": "code",
   "execution_count": 65,
   "metadata": {},
   "outputs": [
    {
     "data": {
      "text/html": [
       "<div>\n",
       "<style>\n",
       "    .dataframe thead tr:only-child th {\n",
       "        text-align: right;\n",
       "    }\n",
       "\n",
       "    .dataframe thead th {\n",
       "        text-align: left;\n",
       "    }\n",
       "\n",
       "    .dataframe tbody tr th {\n",
       "        vertical-align: top;\n",
       "    }\n",
       "</style>\n",
       "<table border=\"1\" class=\"dataframe\">\n",
       "  <thead>\n",
       "    <tr style=\"text-align: right;\">\n",
       "      <th></th>\n",
       "      <th>Effort</th>\n",
       "      <th>Team_Member_Name</th>\n",
       "    </tr>\n",
       "  </thead>\n",
       "  <tbody>\n",
       "    <tr>\n",
       "      <th>0</th>\n",
       "      <td>50%</td>\n",
       "      <td>ADITYA LAKSHMI NARAYANAN</td>\n",
       "    </tr>\n",
       "    <tr>\n",
       "      <th>1</th>\n",
       "      <td>50%</td>\n",
       "      <td>ANIRUDDHA BASKAR</td>\n",
       "    </tr>\n",
       "  </tbody>\n",
       "</table>\n",
       "</div>"
      ],
      "text/plain": [
       "  Effort          Team_Member_Name\n",
       "0    50%  ADITYA LAKSHMI NARAYANAN\n",
       "1    50%          ANIRUDDHA BASKAR"
      ]
     },
     "execution_count": 65,
     "metadata": {},
     "output_type": "execute_result"
    }
   ],
   "source": [
    "effort_table = pd.DataFrame({'Team_Member_Name':[\"ADITYA LAKSHMI NARAYANAN\",\"ANIRUDDHA BASKAR\"],'Effort':[\"50%\",\"50%\"]})\n",
    "effort_table"
   ]
  }
 ],
 "metadata": {
  "kernelspec": {
   "display_name": "Python 3",
   "language": "python",
   "name": "python3"
  },
  "language_info": {
   "codemirror_mode": {
    "name": "ipython",
    "version": 3
   },
   "file_extension": ".py",
   "mimetype": "text/x-python",
   "name": "python",
   "nbconvert_exporter": "python",
   "pygments_lexer": "ipython3",
   "version": "3.6.3"
  }
 },
 "nbformat": 4,
 "nbformat_minor": 2
}
